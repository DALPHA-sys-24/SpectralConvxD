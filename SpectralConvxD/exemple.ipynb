{
 "cells": [
  {
   "cell_type": "code",
   "execution_count": 1,
   "id": "ab008afe",
   "metadata": {},
   "outputs": [],
   "source": [
    "import SpectralConvxD as spc\n",
    "\n"
   ]
  },
  {
   "cell_type": "code",
   "execution_count": null,
   "id": "dd8b0072",
   "metadata": {},
   "outputs": [
    {
     "name": "stdout",
     "output_type": "stream",
     "text": [
      "Did or could not load data from ./mnist1d_data.pkl. Rebuilding dataset...\n"
     ]
    }
   ],
   "source": [
    "x_train, y_train,x_test, y_test=spc.generate_data(name_data='mnist1d')\n"
   ]
  },
  {
   "cell_type": "code",
   "execution_count": 20,
   "id": "e1c63b33",
   "metadata": {},
   "outputs": [
    {
     "name": "stdout",
     "output_type": "stream",
     "text": [
      "['reference', 'Dspec', 'specConvXd']\n"
     ]
    }
   ],
   "source": [
    "models_pars={'reference':\n",
    "                    {\"spectral_config\":{ 'is_base_trainable': True,\n",
    "                                        'is_diag_start_trainable': False,\n",
    "                                        'is_diag_end_trainable': False,\n",
    "                                        'use_bias': True\n",
    "                                        },\n",
    "                     \"spectral_cnn1d_config\":{ 'kernel_size': 3,\n",
    "                                                'stride': 1,\n",
    "                                                'padding': 0,\n",
    "                                                'trainable_phi':True,\n",
    "                                                'use_lambda_out':False,\n",
    "                                                'use_lambda_in' : False,\n",
    "                                                'use_bias': True\n",
    "                                              },\n",
    "                     \"spectral_cnn2d_config\":{ 'kernel_size': 3,\n",
    "                                                'strides': 1,\n",
    "                                                'padding': 'VALID',\n",
    "                                                \"use_lambda_out\":False,\n",
    "                                                \"use_lambda_in\":False,\n",
    "                                                \"use_encode\":False,\n",
    "                                                \"use_decode\":False,\n",
    "                                                'use_bias': True,\n",
    "                                                \"trainable_omega_diag\":True,\n",
    "                                                \"trainable_omega_triu\":True,\n",
    "                                                \"trainable_omega_tril\":True,\n",
    "                                                \"trainable_aggregate\":False,\n",
    "                                                }\n",
    "                    },\n",
    "                    \n",
    "             'Dspec':{\"spectral_config\":{ 'is_base_trainable': True,\n",
    "                                        'is_diag_start_trainable': False,\n",
    "                                        'is_diag_end_trainable': False,\n",
    "                                        'use_bias': True\n",
    "                                        },\n",
    "                     \"spectral_cnn1d_config\":{ 'kernel_size': 3,\n",
    "                                                'stride': 1,\n",
    "                                                'padding': 0,\n",
    "                                                'trainable_phi':False,\n",
    "                                                'use_lambda_out':False,\n",
    "                                                'use_lambda_in' : True,\n",
    "                                                'use_bias': True\n",
    "                                              },\n",
    "                     \"spectral_cnn2d_config\":{ 'kernel_size': 3,\n",
    "                                                'strides': 1,\n",
    "                                                'padding': 'VALID',\n",
    "                                                \"use_lambda_out\":False,\n",
    "                                                \"use_lambda_in\":False,\n",
    "                                                \"use_encode\":False,\n",
    "                                                \"use_decode\":True,\n",
    "                                                'use_bias': True,\n",
    "                                                \"trainable_omega_diag\":False,\n",
    "                                                \"trainable_omega_triu\":False,\n",
    "                                                \"trainable_omega_tril\":False,\n",
    "                                                \"trainable_aggregate\":False,\n",
    "                                                }\n",
    "                    },\n",
    "             \n",
    "             'specConvXd':{\"spectral_config\":{ 'is_base_trainable': False,\n",
    "                                        'is_diag_start_trainable': False,\n",
    "                                        'is_diag_end_trainable': True,\n",
    "                                        'use_bias': True\n",
    "                                        },\n",
    "                     \"spectral_cnn1d_config\":{ 'kernel_size': 3,\n",
    "                                                'stride': 1,\n",
    "                                                'padding': 1,\n",
    "                                                'trainable_phi':True,\n",
    "                                                'use_lambda_out':False,\n",
    "                                                'use_lambda_in' : True,\n",
    "                                                'use_bias': True\n",
    "                                              },\n",
    "                     \"spectral_cnn2d_config\":{ 'kernel_size': 3,\n",
    "                                                'strides': 1,\n",
    "                                                'padding': 'VALID',\n",
    "                                                \"use_lambda_out\":False,\n",
    "                                                \"use_lambda_in\":False,\n",
    "                                                \"use_encode\":False,\n",
    "                                                \"use_decode\":True,\n",
    "                                                'use_bias': True,\n",
    "                                                \"trainable_omega_diag\":False,\n",
    "                                                \"trainable_omega_triu\":False,\n",
    "                                                \"trainable_omega_tril\":False,\n",
    "                                                \"trainable_aggregate\":False,\n",
    "                                                }\n",
    "                    }\n",
    "            }\n",
    "models_name=list(models_pars.keys())\n",
    "print(models_name)"
   ]
  },
  {
   "cell_type": "code",
   "execution_count": 21,
   "id": "774c82ae",
   "metadata": {},
   "outputs": [],
   "source": [
    "maxpooling_config ={'strides': 1,\n",
    "                     'padding': 'valid' }\n",
    "\n",
    "hyperparameters = { 'filters' :20,\n",
    "                    'input_shape' :(40,),\n",
    "                    'learning_rate' : 0.01,\n",
    "                    'epochs' : 20,\n",
    "                    'batch_size' :100,\n",
    "                    'activation': 'relu',\n",
    "                    'labels' : 10,\n",
    "                    'conxd':1,\n",
    "                    'pool_size':2,\n",
    "                    'pruning':None,\n",
    "                    'Use_pruning':None,\n",
    "                    'use_base_and_Lambda':None}"
   ]
  },
  {
   "cell_type": "code",
   "execution_count": 22,
   "id": "7ea8002f",
   "metadata": {},
   "outputs": [],
   "source": [
    "models = spc.SpectralCnn(hyperparameters=hyperparameters,maxpooling_config=maxpooling_config)"
   ]
  },
  {
   "cell_type": "code",
   "execution_count": 23,
   "id": "1b58a2c2",
   "metadata": {},
   "outputs": [
    {
     "name": "stdout",
     "output_type": "stream",
     "text": [
      "specConvXd model summary:\n",
      " \n"
     ]
    },
    {
     "data": {
      "text/html": [
       "<pre style=\"white-space:pre;overflow-x:auto;line-height:normal;font-family:Menlo,'DejaVu Sans Mono',consolas,'Courier New',monospace\"><span style=\"font-weight: bold\">Model: \"sequential_4\"</span>\n",
       "</pre>\n"
      ],
      "text/plain": [
       "\u001b[1mModel: \"sequential_4\"\u001b[0m\n"
      ]
     },
     "metadata": {},
     "output_type": "display_data"
    },
    {
     "data": {
      "text/html": [
       "<pre style=\"white-space:pre;overflow-x:auto;line-height:normal;font-family:Menlo,'DejaVu Sans Mono',consolas,'Courier New',monospace\">┏━━━━━━━━━━━━━━━━━━━━━━━━━━━━━━━━━┳━━━━━━━━━━━━━━━━━━━━━━━━┳━━━━━━━━━━━━━━━┓\n",
       "┃<span style=\"font-weight: bold\"> Layer (type)                    </span>┃<span style=\"font-weight: bold\"> Output Shape           </span>┃<span style=\"font-weight: bold\">       Param # </span>┃\n",
       "┡━━━━━━━━━━━━━━━━━━━━━━━━━━━━━━━━━╇━━━━━━━━━━━━━━━━━━━━━━━━╇━━━━━━━━━━━━━━━┩\n",
       "│ spec_cnn1d_4 (<span style=\"color: #0087ff; text-decoration-color: #0087ff\">SpecCnn1D</span>)        │ (<span style=\"color: #00d7ff; text-decoration-color: #00d7ff\">None</span>, <span style=\"color: #00af00; text-decoration-color: #00af00\">40</span>, <span style=\"color: #00af00; text-decoration-color: #00af00\">20</span>)         │           <span style=\"color: #00af00; text-decoration-color: #00af00\">920</span> │\n",
       "├─────────────────────────────────┼────────────────────────┼───────────────┤\n",
       "│ max_pooling1d_4 (<span style=\"color: #0087ff; text-decoration-color: #0087ff\">MaxPooling1D</span>)  │ (<span style=\"color: #00d7ff; text-decoration-color: #00d7ff\">None</span>, <span style=\"color: #00af00; text-decoration-color: #00af00\">39</span>, <span style=\"color: #00af00; text-decoration-color: #00af00\">20</span>)         │             <span style=\"color: #00af00; text-decoration-color: #00af00\">0</span> │\n",
       "├─────────────────────────────────┼────────────────────────┼───────────────┤\n",
       "│ flatten_4 (<span style=\"color: #0087ff; text-decoration-color: #0087ff\">Flatten</span>)             │ (<span style=\"color: #00d7ff; text-decoration-color: #00d7ff\">None</span>, <span style=\"color: #00af00; text-decoration-color: #00af00\">780</span>)            │             <span style=\"color: #00af00; text-decoration-color: #00af00\">0</span> │\n",
       "├─────────────────────────────────┼────────────────────────┼───────────────┤\n",
       "│ spectral_8 (<span style=\"color: #0087ff; text-decoration-color: #0087ff\">Spectral</span>)           │ (<span style=\"color: #00d7ff; text-decoration-color: #00d7ff\">None</span>, <span style=\"color: #00af00; text-decoration-color: #00af00\">2500</span>)           │         <span style=\"color: #00af00; text-decoration-color: #00af00\">5,000</span> │\n",
       "├─────────────────────────────────┼────────────────────────┼───────────────┤\n",
       "│ spectral_9 (<span style=\"color: #0087ff; text-decoration-color: #0087ff\">Spectral</span>)           │ (<span style=\"color: #00d7ff; text-decoration-color: #00d7ff\">None</span>, <span style=\"color: #00af00; text-decoration-color: #00af00\">10</span>)             │            <span style=\"color: #00af00; text-decoration-color: #00af00\">20</span> │\n",
       "└─────────────────────────────────┴────────────────────────┴───────────────┘\n",
       "</pre>\n"
      ],
      "text/plain": [
       "┏━━━━━━━━━━━━━━━━━━━━━━━━━━━━━━━━━┳━━━━━━━━━━━━━━━━━━━━━━━━┳━━━━━━━━━━━━━━━┓\n",
       "┃\u001b[1m \u001b[0m\u001b[1mLayer (type)                   \u001b[0m\u001b[1m \u001b[0m┃\u001b[1m \u001b[0m\u001b[1mOutput Shape          \u001b[0m\u001b[1m \u001b[0m┃\u001b[1m \u001b[0m\u001b[1m      Param #\u001b[0m\u001b[1m \u001b[0m┃\n",
       "┡━━━━━━━━━━━━━━━━━━━━━━━━━━━━━━━━━╇━━━━━━━━━━━━━━━━━━━━━━━━╇━━━━━━━━━━━━━━━┩\n",
       "│ spec_cnn1d_4 (\u001b[38;5;33mSpecCnn1D\u001b[0m)        │ (\u001b[38;5;45mNone\u001b[0m, \u001b[38;5;34m40\u001b[0m, \u001b[38;5;34m20\u001b[0m)         │           \u001b[38;5;34m920\u001b[0m │\n",
       "├─────────────────────────────────┼────────────────────────┼───────────────┤\n",
       "│ max_pooling1d_4 (\u001b[38;5;33mMaxPooling1D\u001b[0m)  │ (\u001b[38;5;45mNone\u001b[0m, \u001b[38;5;34m39\u001b[0m, \u001b[38;5;34m20\u001b[0m)         │             \u001b[38;5;34m0\u001b[0m │\n",
       "├─────────────────────────────────┼────────────────────────┼───────────────┤\n",
       "│ flatten_4 (\u001b[38;5;33mFlatten\u001b[0m)             │ (\u001b[38;5;45mNone\u001b[0m, \u001b[38;5;34m780\u001b[0m)            │             \u001b[38;5;34m0\u001b[0m │\n",
       "├─────────────────────────────────┼────────────────────────┼───────────────┤\n",
       "│ spectral_8 (\u001b[38;5;33mSpectral\u001b[0m)           │ (\u001b[38;5;45mNone\u001b[0m, \u001b[38;5;34m2500\u001b[0m)           │         \u001b[38;5;34m5,000\u001b[0m │\n",
       "├─────────────────────────────────┼────────────────────────┼───────────────┤\n",
       "│ spectral_9 (\u001b[38;5;33mSpectral\u001b[0m)           │ (\u001b[38;5;45mNone\u001b[0m, \u001b[38;5;34m10\u001b[0m)             │            \u001b[38;5;34m20\u001b[0m │\n",
       "└─────────────────────────────────┴────────────────────────┴───────────────┘\n"
      ]
     },
     "metadata": {},
     "output_type": "display_data"
    },
    {
     "data": {
      "text/html": [
       "<pre style=\"white-space:pre;overflow-x:auto;line-height:normal;font-family:Menlo,'DejaVu Sans Mono',consolas,'Courier New',monospace\"><span style=\"font-weight: bold\"> Total params: </span><span style=\"color: #00af00; text-decoration-color: #00af00\">5,940</span> (23.20 KB)\n",
       "</pre>\n"
      ],
      "text/plain": [
       "\u001b[1m Total params: \u001b[0m\u001b[38;5;34m5,940\u001b[0m (23.20 KB)\n"
      ]
     },
     "metadata": {},
     "output_type": "display_data"
    },
    {
     "data": {
      "text/html": [
       "<pre style=\"white-space:pre;overflow-x:auto;line-height:normal;font-family:Menlo,'DejaVu Sans Mono',consolas,'Courier New',monospace\"><span style=\"font-weight: bold\"> Trainable params: </span><span style=\"color: #00af00; text-decoration-color: #00af00\">5,940</span> (23.20 KB)\n",
       "</pre>\n"
      ],
      "text/plain": [
       "\u001b[1m Trainable params: \u001b[0m\u001b[38;5;34m5,940\u001b[0m (23.20 KB)\n"
      ]
     },
     "metadata": {},
     "output_type": "display_data"
    },
    {
     "data": {
      "text/html": [
       "<pre style=\"white-space:pre;overflow-x:auto;line-height:normal;font-family:Menlo,'DejaVu Sans Mono',consolas,'Courier New',monospace\"><span style=\"font-weight: bold\"> Non-trainable params: </span><span style=\"color: #00af00; text-decoration-color: #00af00\">0</span> (0.00 B)\n",
       "</pre>\n"
      ],
      "text/plain": [
       "\u001b[1m Non-trainable params: \u001b[0m\u001b[38;5;34m0\u001b[0m (0.00 B)\n"
      ]
     },
     "metadata": {},
     "output_type": "display_data"
    }
   ],
   "source": [
    "inv=2\n",
    "models.compile_models(units=2500,spectral_config=models_pars.get(models_name[inv]).get('spectral_config'),\n",
    "                      spectral_cnn1d_config=models_pars.get(models_name[inv]).get('spectral_cnn1d_config'),\n",
    "                      spectral_cnn2d_config=models_pars.get(models_name[inv]).get('spectral_cnn2d_config'),\n",
    "                      name=models_name[inv])\n",
    "models.summary(name=models_name[inv])"
   ]
  },
  {
   "cell_type": "code",
   "execution_count": 24,
   "id": "548d4b2a",
   "metadata": {},
   "outputs": [
    {
     "name": "stdout",
     "output_type": "stream",
     "text": [
      "Epoch 1/20\n",
      "\u001b[1m80/80\u001b[0m \u001b[32m━━━━━━━━━━━━━━━━━━━━\u001b[0m\u001b[37m\u001b[0m \u001b[1m1s\u001b[0m 9ms/step - accuracy: 0.2500 - loss: 3.9921 - val_accuracy: 0.4835 - val_loss: 1.3250\n",
      "Epoch 2/20\n",
      "\u001b[1m80/80\u001b[0m \u001b[32m━━━━━━━━━━━━━━━━━━━━\u001b[0m\u001b[37m\u001b[0m \u001b[1m1s\u001b[0m 8ms/step - accuracy: 0.5478 - loss: 1.2229 - val_accuracy: 0.5520 - val_loss: 1.1630\n",
      "Epoch 3/20\n",
      "\u001b[1m80/80\u001b[0m \u001b[32m━━━━━━━━━━━━━━━━━━━━\u001b[0m\u001b[37m\u001b[0m \u001b[1m1s\u001b[0m 7ms/step - accuracy: 0.6064 - loss: 1.0478 - val_accuracy: 0.6150 - val_loss: 1.0250\n",
      "Epoch 4/20\n",
      "\u001b[1m80/80\u001b[0m \u001b[32m━━━━━━━━━━━━━━━━━━━━\u001b[0m\u001b[37m\u001b[0m \u001b[1m1s\u001b[0m 8ms/step - accuracy: 0.6659 - loss: 0.9195 - val_accuracy: 0.6165 - val_loss: 0.9815\n",
      "Epoch 5/20\n",
      "\u001b[1m80/80\u001b[0m \u001b[32m━━━━━━━━━━━━━━━━━━━━\u001b[0m\u001b[37m\u001b[0m \u001b[1m1s\u001b[0m 8ms/step - accuracy: 0.6849 - loss: 0.8416 - val_accuracy: 0.6670 - val_loss: 0.8704\n",
      "Epoch 6/20\n",
      "\u001b[1m80/80\u001b[0m \u001b[32m━━━━━━━━━━━━━━━━━━━━\u001b[0m\u001b[37m\u001b[0m \u001b[1m1s\u001b[0m 8ms/step - accuracy: 0.7138 - loss: 0.7608 - val_accuracy: 0.6795 - val_loss: 0.8674\n",
      "Epoch 7/20\n",
      "\u001b[1m80/80\u001b[0m \u001b[32m━━━━━━━━━━━━━━━━━━━━\u001b[0m\u001b[37m\u001b[0m \u001b[1m1s\u001b[0m 8ms/step - accuracy: 0.7311 - loss: 0.7234 - val_accuracy: 0.6865 - val_loss: 0.8456\n",
      "Epoch 8/20\n",
      "\u001b[1m80/80\u001b[0m \u001b[32m━━━━━━━━━━━━━━━━━━━━\u001b[0m\u001b[37m\u001b[0m \u001b[1m1s\u001b[0m 7ms/step - accuracy: 0.7538 - loss: 0.6764 - val_accuracy: 0.6995 - val_loss: 0.7999\n",
      "Epoch 9/20\n",
      "\u001b[1m80/80\u001b[0m \u001b[32m━━━━━━━━━━━━━━━━━━━━\u001b[0m\u001b[37m\u001b[0m \u001b[1m1s\u001b[0m 8ms/step - accuracy: 0.7635 - loss: 0.6479 - val_accuracy: 0.7125 - val_loss: 0.7733\n",
      "Epoch 10/20\n",
      "\u001b[1m80/80\u001b[0m \u001b[32m━━━━━━━━━━━━━━━━━━━━\u001b[0m\u001b[37m\u001b[0m \u001b[1m1s\u001b[0m 8ms/step - accuracy: 0.7736 - loss: 0.6182 - val_accuracy: 0.7305 - val_loss: 0.7599\n",
      "Epoch 11/20\n",
      "\u001b[1m80/80\u001b[0m \u001b[32m━━━━━━━━━━━━━━━━━━━━\u001b[0m\u001b[37m\u001b[0m \u001b[1m1s\u001b[0m 8ms/step - accuracy: 0.7845 - loss: 0.5956 - val_accuracy: 0.7345 - val_loss: 0.7281\n",
      "Epoch 12/20\n",
      "\u001b[1m80/80\u001b[0m \u001b[32m━━━━━━━━━━━━━━━━━━━━\u001b[0m\u001b[37m\u001b[0m \u001b[1m1s\u001b[0m 8ms/step - accuracy: 0.7940 - loss: 0.5610 - val_accuracy: 0.7345 - val_loss: 0.7356\n",
      "Epoch 13/20\n",
      "\u001b[1m80/80\u001b[0m \u001b[32m━━━━━━━━━━━━━━━━━━━━\u001b[0m\u001b[37m\u001b[0m \u001b[1m1s\u001b[0m 8ms/step - accuracy: 0.8205 - loss: 0.5263 - val_accuracy: 0.7500 - val_loss: 0.7009\n",
      "Epoch 14/20\n",
      "\u001b[1m80/80\u001b[0m \u001b[32m━━━━━━━━━━━━━━━━━━━━\u001b[0m\u001b[37m\u001b[0m \u001b[1m1s\u001b[0m 8ms/step - accuracy: 0.8200 - loss: 0.5008 - val_accuracy: 0.7305 - val_loss: 0.7506\n",
      "Epoch 15/20\n",
      "\u001b[1m80/80\u001b[0m \u001b[32m━━━━━━━━━━━━━━━━━━━━\u001b[0m\u001b[37m\u001b[0m \u001b[1m1s\u001b[0m 8ms/step - accuracy: 0.8321 - loss: 0.4724 - val_accuracy: 0.7550 - val_loss: 0.7130\n",
      "Epoch 16/20\n",
      "\u001b[1m80/80\u001b[0m \u001b[32m━━━━━━━━━━━━━━━━━━━━\u001b[0m\u001b[37m\u001b[0m \u001b[1m1s\u001b[0m 9ms/step - accuracy: 0.8277 - loss: 0.4807 - val_accuracy: 0.7490 - val_loss: 0.7123\n",
      "Epoch 17/20\n",
      "\u001b[1m80/80\u001b[0m \u001b[32m━━━━━━━━━━━━━━━━━━━━\u001b[0m\u001b[37m\u001b[0m \u001b[1m1s\u001b[0m 8ms/step - accuracy: 0.8388 - loss: 0.4625 - val_accuracy: 0.7520 - val_loss: 0.7066\n",
      "Epoch 18/20\n",
      "\u001b[1m80/80\u001b[0m \u001b[32m━━━━━━━━━━━━━━━━━━━━\u001b[0m\u001b[37m\u001b[0m \u001b[1m1s\u001b[0m 8ms/step - accuracy: 0.8433 - loss: 0.4395 - val_accuracy: 0.7595 - val_loss: 0.7072\n",
      "Epoch 19/20\n",
      "\u001b[1m80/80\u001b[0m \u001b[32m━━━━━━━━━━━━━━━━━━━━\u001b[0m\u001b[37m\u001b[0m \u001b[1m1s\u001b[0m 8ms/step - accuracy: 0.8385 - loss: 0.4544 - val_accuracy: 0.7745 - val_loss: 0.6714\n",
      "Epoch 20/20\n",
      "\u001b[1m80/80\u001b[0m \u001b[32m━━━━━━━━━━━━━━━━━━━━\u001b[0m\u001b[37m\u001b[0m \u001b[1m1s\u001b[0m 8ms/step - accuracy: 0.8394 - loss: 0.4505 - val_accuracy: 0.7510 - val_loss: 0.7184\n"
     ]
    },
    {
     "data": {
      "text/plain": [
       "<keras.src.callbacks.history.History at 0x1d6144a4b00>"
      ]
     },
     "execution_count": 24,
     "metadata": {},
     "output_type": "execute_result"
    }
   ],
   "source": [
    "models.train(x_train, y_train, x_test, y_test, name=models_name[inv],verbose=1,layers=(3,4))"
   ]
  },
  {
   "cell_type": "code",
   "execution_count": null,
   "id": "9fda4a6b",
   "metadata": {},
   "outputs": [],
   "source": [
    "models.get_hyperparameters()"
   ]
  },
  {
   "cell_type": "code",
   "execution_count": null,
   "id": "b882b16e",
   "metadata": {},
   "outputs": [],
   "source": []
  },
  {
   "cell_type": "code",
   "execution_count": null,
   "id": "400ed351",
   "metadata": {},
   "outputs": [],
   "source": []
  },
  {
   "cell_type": "code",
   "execution_count": null,
   "id": "c4f639c3",
   "metadata": {},
   "outputs": [],
   "source": []
  },
  {
   "cell_type": "code",
   "execution_count": null,
   "id": "e6d08eb8",
   "metadata": {},
   "outputs": [],
   "source": []
  },
  {
   "cell_type": "code",
   "execution_count": null,
   "id": "e75cceef",
   "metadata": {},
   "outputs": [],
   "source": []
  },
  {
   "cell_type": "code",
   "execution_count": null,
   "id": "4a6375b2",
   "metadata": {},
   "outputs": [],
   "source": []
  },
  {
   "cell_type": "code",
   "execution_count": null,
   "id": "2a98175e",
   "metadata": {},
   "outputs": [],
   "source": []
  },
  {
   "cell_type": "code",
   "execution_count": null,
   "id": "6ccd7641",
   "metadata": {},
   "outputs": [],
   "source": []
  },
  {
   "cell_type": "code",
   "execution_count": null,
   "id": "98222037",
   "metadata": {},
   "outputs": [],
   "source": []
  },
  {
   "cell_type": "code",
   "execution_count": null,
   "id": "df182e4b",
   "metadata": {},
   "outputs": [],
   "source": []
  },
  {
   "cell_type": "code",
   "execution_count": null,
   "id": "e59c0722",
   "metadata": {},
   "outputs": [],
   "source": []
  },
  {
   "cell_type": "code",
   "execution_count": null,
   "id": "bc1ad9dd",
   "metadata": {},
   "outputs": [],
   "source": []
  },
  {
   "cell_type": "code",
   "execution_count": null,
   "id": "598cad4a",
   "metadata": {},
   "outputs": [],
   "source": []
  },
  {
   "cell_type": "code",
   "execution_count": null,
   "id": "0da52adb",
   "metadata": {},
   "outputs": [],
   "source": []
  },
  {
   "cell_type": "code",
   "execution_count": null,
   "id": "4882493b",
   "metadata": {},
   "outputs": [],
   "source": []
  },
  {
   "cell_type": "code",
   "execution_count": null,
   "id": "7075a4d7",
   "metadata": {},
   "outputs": [],
   "source": []
  },
  {
   "cell_type": "code",
   "execution_count": null,
   "id": "a746cb4c",
   "metadata": {},
   "outputs": [],
   "source": []
  },
  {
   "cell_type": "code",
   "execution_count": null,
   "id": "0c6b136f",
   "metadata": {},
   "outputs": [],
   "source": [
    "\n"
   ]
  },
  {
   "cell_type": "code",
   "execution_count": null,
   "id": "0aaf2d3a",
   "metadata": {},
   "outputs": [],
   "source": [
    "\n",
    "\n",
    "\n"
   ]
  },
  {
   "cell_type": "code",
   "execution_count": null,
   "id": "e0a061d5",
   "metadata": {},
   "outputs": [],
   "source": [
    "# Charger le dataset \"imagenette\" en taille 320px\n",
    "dataset, info = tfds.load(\n",
    "    'imagenette/320px',\n",
    "    split='train',\n",
    "    with_info=True,\n",
    "    as_supervised=True  # retourne (image, label)\n",
    ")\n",
    "\n",
    "# Aperçu des classes\n",
    "print(\"Classes :\", info.features['label'].names)\n"
   ]
  },
  {
   "cell_type": "code",
   "execution_count": null,
   "id": "99bcb110",
   "metadata": {},
   "outputs": [],
   "source": [
    "for image, label in dataset.take(3):\n",
    "    print(image.shape)\n",
    "    plt.imshow(image.numpy())\n",
    "    plt.title(f\"Classe : {info.features['label'].names[label.numpy()]}\")\n",
    "    plt.axis('off')\n",
    "    plt.savefig(f'{label}.pdf')\n",
    "    plt.show()"
   ]
  },
  {
   "cell_type": "code",
   "execution_count": null,
   "id": "402b29d8",
   "metadata": {},
   "outputs": [],
   "source": [
    "spectral_config = {  'is_base_trainable': True,\n",
    "                     'is_diag_start_trainable': False,\n",
    "                     'is_diag_end_trainable': False,\n",
    "                     'use_bias': True\n",
    "                    }\n",
    "\n",
    "spectral_cnn1d_config ={ 'kernel_size': 3,\n",
    "                         'stride': 1,\n",
    "                         'padding': 0,\n",
    "                         'trainable_phi':False,\n",
    "                         'use_lambda_out':False,\n",
    "                         'use_lambda_in' : True,\n",
    "                         'use_bias': True}\n",
    "\n",
    "spectral_cnn2d_config={ 'kernel_size': 3,\n",
    "                        'strides': 1,\n",
    "                        'padding': 'VALID',\n",
    "                        \"use_lambda_out\":False,\n",
    "                        \"use_lambda_in\":False,\n",
    "                        \"use_encode\":False,\n",
    "                        \"use_decode\":False,\n",
    "                        'use_bias': False,\n",
    "                        \"trainable_omega_diag\":True,\n",
    "                        \"trainable_omega_triu\":True,\n",
    "                        \"trainable_omega_tril\":True,\n",
    "                        \"trainable_aggregate\":True,\n",
    "                        \"kernel_initializer\":\"glorot_uniform\"\n",
    "                        }\n",
    "\n",
    "maxpooling_config ={ 'pool_size': 3,\n",
    "                     'strides': 1,\n",
    "                     'padding': 'same' }\n",
    "\n",
    "hyperparameters = { 'filters' :20,\n",
    "                    'input_shape' :(40,),\n",
    "                    'learning_rate' : 0.03,\n",
    "                    'epochs' : 20,\n",
    "                    'batch_size' :100,\n",
    "                    'activation': 'relu',\n",
    "                    'labels' : 10}\n",
    "\n",
    "\n",
    "\n"
   ]
  },
  {
   "cell_type": "code",
   "execution_count": null,
   "id": "f0939626",
   "metadata": {},
   "outputs": [],
   "source": [
    "models = SpectralCnn(spectral_config=spectral_config,\n",
    "                     spectral_cnn1d_config=spectral_cnn1d_config,\n",
    "                     spectral_cnn2d_config=spectral_cnn2d_config,\n",
    "                     hyperparameters=hyperparameters,\n",
    "                     maxpooling_config=maxpooling_config)"
   ]
  },
  {
   "cell_type": "code",
   "execution_count": null,
   "id": "12463497",
   "metadata": {},
   "outputs": [],
   "source": [
    "print(\"build model\")\n",
    "models.compile_models(units=3000, Use_pruning=False,pruning=0.1, use_base_and_Lambda=True, name='Dspec')\n",
    "models.summary(name='Dspec')\n"
   ]
  },
  {
   "cell_type": "code",
   "execution_count": null,
   "id": "3a9ed061",
   "metadata": {},
   "outputs": [],
   "source": [
    "models.train(x_train, y_train, x_test, y_test, name='Dspec',verbose=1,layers=(3,4))"
   ]
  },
  {
   "cell_type": "code",
   "execution_count": null,
   "id": "f906a99f",
   "metadata": {},
   "outputs": [],
   "source": [
    "p=[0,0.05,0.1,0.2,0.3,0.4,0.5,0.6,0.7,0.8,0.9,0.95,1]"
   ]
  },
  {
   "cell_type": "code",
   "execution_count": null,
   "id": "cc1fbb70",
   "metadata": {},
   "outputs": [],
   "source": [
    "accuracy=[models.evaluate(x_test, y_test, order=0, name='Dspec',layers=[3],p=val) for val in p]"
   ]
  },
  {
   "cell_type": "code",
   "execution_count": null,
   "id": "79a1d862",
   "metadata": {},
   "outputs": [],
   "source": [
    "accuracy1 "
   ]
  },
  {
   "cell_type": "code",
   "execution_count": null,
   "id": "5a73f9ec",
   "metadata": {},
   "outputs": [],
   "source": [
    "fig, ax = plt.subplots(num=1,figsize=(6,3),dpi=250)\n",
    "ax.axis([0, 1, 0, 1])\n",
    "plt.plot(p,accuracy,color='k')\n",
    "plt.plot(p,accuracy1,color='k')\n",
    "\n"
   ]
  },
  {
   "cell_type": "code",
   "execution_count": null,
   "id": "365c4c1e",
   "metadata": {},
   "outputs": [],
   "source": [
    "def absolute_value_of_the_incoming_connectivity_collapse(matrix, p_percent):\n",
    "    \"\"\"\n",
    "    Calculates the sum of absolute values of weights for each row, orders them,\n",
    "    and sets to zero the p percent lowest values (weakest connections).\n",
    "    \n",
    "    Args:\n",
    "        matrix (list or np.array): Input matrix\n",
    "        p_percent (float): Percentage of weakest rows to collapse (0.0-1.0)\n",
    "    \n",
    "    Returns:\n",
    "        tuple: (filtered_matrix, collapsed_indices, row_sums, threshold_value)\n",
    "            - filtered_matrix (np.array): Matrix with weakest rows set to zero\n",
    "            - collapsed_indices (np.array): Indices of rows that were collapsed\n",
    "            - row_sums (np.array): Array of absolute row sums before collapse\n",
    "            - threshold_value (float): The threshold value used for collapse\n",
    "    \"\"\"\n",
    "    # Validate percentage\n",
    "    if not isinstance(p_percent, (int, float)):\n",
    "        raise TypeError(\"p_percent must be a number\")\n",
    "    if not (0 <= p_percent <= 1):\n",
    "        raise ValueError(\"p_percent must be between 0 and 1\")\n",
    "    \n",
    "    # Convert to numpy array if not already\n",
    "    mat = np.array(matrix)\n",
    "    \n",
    "    if mat.size == 0:\n",
    "        return mat, np.array([]), np.array([]), 0.0\n",
    "    \n",
    "    # Create a copy to avoid modifying the original\n",
    "    result = mat.copy()\n",
    "    \n",
    "    # Calculate sum of absolute values for each row\n",
    "    row_sums = np.sum(np.abs(mat), axis=1)\n",
    "    \n",
    "    # Calculate how many rows to collapse\n",
    "    num_rows = mat.shape[0]\n",
    "    num_to_collapse = int(np.ceil(num_rows * p_percent))\n",
    "    \n",
    "    if num_to_collapse == 0:\n",
    "        # No rows to collapse\n",
    "        return result, np.array([]), row_sums, 0.0\n",
    "    \n",
    "    # Find indices of rows with smallest sums (weakest connections)\n",
    "    sorted_indices = np.argsort(row_sums)\n",
    "    collapsed_indices = sorted_indices[:num_to_collapse]\n",
    "    \n",
    "    # Determine threshold value\n",
    "    if num_to_collapse < num_rows:\n",
    "        threshold_value = row_sums[sorted_indices[num_to_collapse - 1]]\n",
    "    else:\n",
    "        threshold_value = row_sums[sorted_indices[-1]]\n",
    "    \n",
    "    # Set the weakest rows to zero\n",
    "    result[collapsed_indices, :] = 0\n",
    "    \n",
    "    return result, collapsed_indices, row_sums, threshold_value\n"
   ]
  },
  {
   "cell_type": "code",
   "execution_count": null,
   "id": "3d79cdcc",
   "metadata": {},
   "outputs": [],
   "source": [
    "matrix1 = np.array([\n",
    "    [0.1, -0.2, 0.3],      # sum = 0.6\n",
    "    [1.5, 2.0, -0.5],      # sum = 4.0\n",
    "    [0.05, 0.1, -0.05],    # sum = 0.2\n",
    "    [3.0, -1.0, 2.5],      # sum = 6.5\n",
    "    [0.2, -0.1, 0.15],     # sum = 0.45\n",
    "    [0.8, 0.6, -0.4]       # sum = 1.8\n",
    "])\n",
    "\n",
    "print(\"Original matrix:\")\n",
    "print(np.array(matrix1))\n",
    "\n",
    "# Test with 0.33 collapse (should collapse 2 weakest rows)\n",
    "p_percent = 0.33\n",
    "print(f\"\\nCollapsing {p_percent:.0%} of weakest rows:\")\n",
    "\n",
    "result1, collapsed_idx1, sums1, threshold1 = absolute_value_of_the_incoming_connectivity_collapse(matrix1, p_percent)\n",
    "\n",
    "print(f\"Row sums (absolute values): {sums1}\")\n",
    "print(f\"Collapsed row indices: {collapsed_idx1}\")\n",
    "print(f\"Threshold value: {threshold1}\")\n",
    "print(f\"Number of rows collapsed: {len(collapsed_idx1)}\")\n",
    "print(\"Matrix after collapse:\")\n",
    "print(result1)\n",
    "print()"
   ]
  },
  {
   "cell_type": "code",
   "execution_count": null,
   "id": "6684bb05",
   "metadata": {},
   "outputs": [],
   "source": [
    "matrix1.size"
   ]
  },
  {
   "cell_type": "code",
   "execution_count": null,
   "id": "a9578d5a",
   "metadata": {},
   "outputs": [],
   "source": [
    "def quantile_robust(array, p):\n",
    "    \"\"\"\n",
    "    Calcule le quantile d'ordre p avec gestion d'erreurs\n",
    "    \n",
    "    Parameters:\n",
    "    array : array-like\n",
    "        Le vecteur de données\n",
    "    p : float\n",
    "        L'ordre du quantile (entre 0 et 1)\n",
    "        \n",
    "    Returns:\n",
    "    float : Le quantile d'ordre p\n",
    "    \n",
    "    Raises:\n",
    "    ValueError : Si p n'est pas entre 0 et 1\n",
    "    \"\"\"\n",
    "    if not 0 <= p <= 1:\n",
    "        raise ValueError(\"p doit être entre 0 et 1\")\n",
    "    \n",
    "    array = np.asarray(array)\n",
    "    \n",
    "    if array.size == 0:\n",
    "        raise ValueError(\"Le vecteur ne peut pas être vide\")\n",
    "    \n",
    "    # Enlever les valeurs NaN\n",
    "    array_clean = array[~np.isnan(array)]\n",
    "    \n",
    "    if array_clean.size == 0:\n",
    "        raise ValueError(\"Le vecteur ne contient que des valeurs NaN\")\n",
    "    \n",
    "    return np.quantile(array_clean, p)"
   ]
  },
  {
   "cell_type": "code",
   "execution_count": null,
   "id": "d99463f2",
   "metadata": {},
   "outputs": [],
   "source": [
    "data_with_nan = np.array([1, 2, np.nan, 4, 5, 6, 7, 8, 9, 10])\n",
    "print(f\"Quantile 0.5: {quantile_robust(data_with_nan, 0.5)}\")"
   ]
  },
  {
   "cell_type": "code",
   "execution_count": null,
   "id": "03818c88",
   "metadata": {},
   "outputs": [],
   "source": [
    "def threshold_filter(threshold, vector):\n",
    "    \"\"\"\n",
    "    Sets to zero the values in the vector that are smaller than the threshold.\n",
    "    \n",
    "    Args:\n",
    "        threshold (float): Threshold value\n",
    "        vector (list or np.array): Input vector\n",
    "    \n",
    "    Returns:\n",
    "        tuple: (filtered_vector, percentage_zeroed)\n",
    "            - filtered_vector (np.array): Vector with values < threshold set to zero\n",
    "            - percentage_zeroed (float): Percentage of values that were set to zero\n",
    "    \"\"\"\n",
    "    # Convert to numpy array if not already\n",
    "    vec = np.array(vector)\n",
    "    \n",
    "    # Create a copy to avoid modifying the original\n",
    "    result = vec.copy()\n",
    "    \n",
    "    # Count values below threshold\n",
    "    values_below_threshold = np.sum(vec < threshold)\n",
    "    total_values = len(vec)\n",
    "    \n",
    "    # Calculate percentage\n",
    "    percentage_zeroed = (values_below_threshold / total_values) * 100 if total_values > 0 else 0\n",
    "    \n",
    "    # Set values below threshold to zero\n",
    "    result[result < threshold] = 0\n",
    "    \n",
    "    return result, percentage_zeroed"
   ]
  },
  {
   "cell_type": "code",
   "execution_count": null,
   "id": "e4e8c01c",
   "metadata": {},
   "outputs": [],
   "source": [
    "vector1 = [1, 5, 3, 8, 2, 9, 4]\n",
    "threshold1 = quantile_robust(vector1, p=1)\n",
    "\n",
    "print(f\"Original vector: {vector1}\")\n",
    "print(f\"Threshold: {threshold1}\")\n",
    "result1 = threshold_filter(threshold1, vector1)\n",
    "print(f\"Result: {result1}\")\n",
    "print()"
   ]
  },
  {
   "cell_type": "code",
   "execution_count": null,
   "id": "1b8d19e1",
   "metadata": {},
   "outputs": [],
   "source": []
  }
 ],
 "metadata": {
  "kernelspec": {
   "display_name": "Python 3",
   "language": "python",
   "name": "python3"
  },
  "language_info": {
   "codemirror_mode": {
    "name": "ipython",
    "version": 3
   },
   "file_extension": ".py",
   "mimetype": "text/x-python",
   "name": "python",
   "nbconvert_exporter": "python",
   "pygments_lexer": "ipython3",
   "version": "3.12.6"
  }
 },
 "nbformat": 4,
 "nbformat_minor": 5
}
