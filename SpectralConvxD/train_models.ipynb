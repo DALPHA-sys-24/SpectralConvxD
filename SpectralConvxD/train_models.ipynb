{
 "cells": [
  {
   "cell_type": "code",
   "execution_count": null,
   "id": "9d7c9638",
   "metadata": {},
   "outputs": [],
   "source": [
    "%load_ext autoreload\n",
    "%autoreload 2\n",
    "from models import *\n",
    "from fetch_data import *"
   ]
  },
  {
   "cell_type": "markdown",
   "id": "a0ac893e",
   "metadata": {},
   "source": [
    "DATASET"
   ]
  },
  {
   "cell_type": "code",
   "execution_count": 2,
   "id": "052522ba",
   "metadata": {},
   "outputs": [],
   "source": [
    "x_train, y_train,x_test, y_test=generate_data(name_data='mnist')"
   ]
  },
  {
   "cell_type": "code",
   "execution_count": 3,
   "id": "fcc37256",
   "metadata": {},
   "outputs": [],
   "source": [
    "# plt.imshow(x_train[7])"
   ]
  },
  {
   "cell_type": "markdown",
   "id": "d8aeb8fa",
   "metadata": {},
   "source": [
    "HYPERPARAMETERS"
   ]
  },
  {
   "cell_type": "code",
   "execution_count": null,
   "id": "a5c1f818",
   "metadata": {},
   "outputs": [],
   "source": [
    "spectral_config = {  'is_base_trainable': True,\n",
    "                     'is_diag_start_trainable': False,\n",
    "                     'is_diag_end_trainable': False,\n",
    "                     'use_bias': True\n",
    "                    }\n",
    "\n",
    "spectral_cnn1d_config ={ 'kernel_size': 3,\n",
    "                         'stride': 2,\n",
    "                         'padding': 0,\n",
    "                         'trainable_phi':False,\n",
    "                         'use_lambda_out':False,\n",
    "                         'use_lambda_in' : True,\n",
    "                         'use_bias': True}\n",
    "\n",
    "spectral_cnn2d_config={ 'kernel_size': 3,\n",
    "                        'strides': 1,\n",
    "                        'padding': 'VALID',\n",
    "                        \"use_lambda_out\":False,\n",
    "                        \"use_lambda_in\":False,\n",
    "                        \"use_encode\":False,\n",
    "                        \"use_decode\":False,\n",
    "                        'use_bias': False,\n",
    "                        \"trainable_omega_diag\":True,\n",
    "                        \"trainable_omega_triu\":True,\n",
    "                        \"trainable_omega_tril\":True,\n",
    "                        \"trainable_aggregate\":True,\n",
    "                        \"kernel_initializer\":\"glorot_uniform\"\n",
    "                        }\n",
    "\n",
    "maxpooling_config ={ 'pool_size': (2,2),\n",
    "                     'strides': 2,\n",
    "                     'padding': 'valid' }\n",
    "\n",
    "hyperparameters = { 'filters' :2,\n",
    "                    'input_shape' :(28,28,1),\n",
    "                    'learning_rate' : 0.01,\n",
    "                    'epochs' : 20,\n",
    "                    'batch_size' :100,\n",
    "                    'activation': 'relu',\n",
    "                    'labels' : 10}\n",
    "\n",
    "\n",
    "\n"
   ]
  },
  {
   "cell_type": "code",
   "execution_count": 12,
   "id": "2049427c",
   "metadata": {},
   "outputs": [],
   "source": [
    "models = SpectralCnn(spectral_config=spectral_config,\n",
    "                     spectral_cnn1d_config=spectral_cnn1d_config,\n",
    "                     spectral_cnn2d_config=spectral_cnn2d_config,\n",
    "                     hyperparameters=hyperparameters,\n",
    "                     maxpooling_config=maxpooling_config)"
   ]
  },
  {
   "cell_type": "code",
   "execution_count": 13,
   "id": "8bb7c91e",
   "metadata": {},
   "outputs": [
    {
     "name": "stdout",
     "output_type": "stream",
     "text": [
      "build model\n",
      "Reference model summary:\n",
      " \n"
     ]
    },
    {
     "data": {
      "text/html": [
       "<pre style=\"white-space:pre;overflow-x:auto;line-height:normal;font-family:Menlo,'DejaVu Sans Mono',consolas,'Courier New',monospace\"><span style=\"font-weight: bold\">Model: \"sequential_2\"</span>\n",
       "</pre>\n"
      ],
      "text/plain": [
       "\u001b[1mModel: \"sequential_2\"\u001b[0m\n"
      ]
     },
     "metadata": {},
     "output_type": "display_data"
    },
    {
     "data": {
      "text/html": [
       "<pre style=\"white-space:pre;overflow-x:auto;line-height:normal;font-family:Menlo,'DejaVu Sans Mono',consolas,'Courier New',monospace\">┏━━━━━━━━━━━━━━━━━━━━━━━━━━━━━━━━━┳━━━━━━━━━━━━━━━━━━━━━━━━┳━━━━━━━━━━━━━━━┓\n",
       "┃<span style=\"font-weight: bold\"> Layer (type)                    </span>┃<span style=\"font-weight: bold\"> Output Shape           </span>┃<span style=\"font-weight: bold\">       Param # </span>┃\n",
       "┡━━━━━━━━━━━━━━━━━━━━━━━━━━━━━━━━━╇━━━━━━━━━━━━━━━━━━━━━━━━╇━━━━━━━━━━━━━━━┩\n",
       "│ spec_cnn2d_2 (<span style=\"color: #0087ff; text-decoration-color: #0087ff\">SpecCnn2D</span>)        │ (<span style=\"color: #00d7ff; text-decoration-color: #00d7ff\">None</span>, <span style=\"color: #00af00; text-decoration-color: #00af00\">26</span>, <span style=\"color: #00af00; text-decoration-color: #00af00\">26</span>, <span style=\"color: #00af00; text-decoration-color: #00af00\">2</span>)      │            <span style=\"color: #00af00; text-decoration-color: #00af00\">20</span> │\n",
       "├─────────────────────────────────┼────────────────────────┼───────────────┤\n",
       "│ max_pooling2d_2 (<span style=\"color: #0087ff; text-decoration-color: #0087ff\">MaxPooling2D</span>)  │ (<span style=\"color: #00d7ff; text-decoration-color: #00d7ff\">None</span>, <span style=\"color: #00af00; text-decoration-color: #00af00\">13</span>, <span style=\"color: #00af00; text-decoration-color: #00af00\">13</span>, <span style=\"color: #00af00; text-decoration-color: #00af00\">2</span>)      │             <span style=\"color: #00af00; text-decoration-color: #00af00\">0</span> │\n",
       "├─────────────────────────────────┼────────────────────────┼───────────────┤\n",
       "│ flatten_2 (<span style=\"color: #0087ff; text-decoration-color: #0087ff\">Flatten</span>)             │ (<span style=\"color: #00d7ff; text-decoration-color: #00d7ff\">None</span>, <span style=\"color: #00af00; text-decoration-color: #00af00\">338</span>)            │             <span style=\"color: #00af00; text-decoration-color: #00af00\">0</span> │\n",
       "├─────────────────────────────────┼────────────────────────┼───────────────┤\n",
       "│ dense_4 (<span style=\"color: #0087ff; text-decoration-color: #0087ff\">Dense</span>)                 │ (<span style=\"color: #00d7ff; text-decoration-color: #00d7ff\">None</span>, <span style=\"color: #00af00; text-decoration-color: #00af00\">1000</span>)           │       <span style=\"color: #00af00; text-decoration-color: #00af00\">339,000</span> │\n",
       "├─────────────────────────────────┼────────────────────────┼───────────────┤\n",
       "│ dense_5 (<span style=\"color: #0087ff; text-decoration-color: #0087ff\">Dense</span>)                 │ (<span style=\"color: #00d7ff; text-decoration-color: #00d7ff\">None</span>, <span style=\"color: #00af00; text-decoration-color: #00af00\">10</span>)             │        <span style=\"color: #00af00; text-decoration-color: #00af00\">10,010</span> │\n",
       "└─────────────────────────────────┴────────────────────────┴───────────────┘\n",
       "</pre>\n"
      ],
      "text/plain": [
       "┏━━━━━━━━━━━━━━━━━━━━━━━━━━━━━━━━━┳━━━━━━━━━━━━━━━━━━━━━━━━┳━━━━━━━━━━━━━━━┓\n",
       "┃\u001b[1m \u001b[0m\u001b[1mLayer (type)                   \u001b[0m\u001b[1m \u001b[0m┃\u001b[1m \u001b[0m\u001b[1mOutput Shape          \u001b[0m\u001b[1m \u001b[0m┃\u001b[1m \u001b[0m\u001b[1m      Param #\u001b[0m\u001b[1m \u001b[0m┃\n",
       "┡━━━━━━━━━━━━━━━━━━━━━━━━━━━━━━━━━╇━━━━━━━━━━━━━━━━━━━━━━━━╇━━━━━━━━━━━━━━━┩\n",
       "│ spec_cnn2d_2 (\u001b[38;5;33mSpecCnn2D\u001b[0m)        │ (\u001b[38;5;45mNone\u001b[0m, \u001b[38;5;34m26\u001b[0m, \u001b[38;5;34m26\u001b[0m, \u001b[38;5;34m2\u001b[0m)      │            \u001b[38;5;34m20\u001b[0m │\n",
       "├─────────────────────────────────┼────────────────────────┼───────────────┤\n",
       "│ max_pooling2d_2 (\u001b[38;5;33mMaxPooling2D\u001b[0m)  │ (\u001b[38;5;45mNone\u001b[0m, \u001b[38;5;34m13\u001b[0m, \u001b[38;5;34m13\u001b[0m, \u001b[38;5;34m2\u001b[0m)      │             \u001b[38;5;34m0\u001b[0m │\n",
       "├─────────────────────────────────┼────────────────────────┼───────────────┤\n",
       "│ flatten_2 (\u001b[38;5;33mFlatten\u001b[0m)             │ (\u001b[38;5;45mNone\u001b[0m, \u001b[38;5;34m338\u001b[0m)            │             \u001b[38;5;34m0\u001b[0m │\n",
       "├─────────────────────────────────┼────────────────────────┼───────────────┤\n",
       "│ dense_4 (\u001b[38;5;33mDense\u001b[0m)                 │ (\u001b[38;5;45mNone\u001b[0m, \u001b[38;5;34m1000\u001b[0m)           │       \u001b[38;5;34m339,000\u001b[0m │\n",
       "├─────────────────────────────────┼────────────────────────┼───────────────┤\n",
       "│ dense_5 (\u001b[38;5;33mDense\u001b[0m)                 │ (\u001b[38;5;45mNone\u001b[0m, \u001b[38;5;34m10\u001b[0m)             │        \u001b[38;5;34m10,010\u001b[0m │\n",
       "└─────────────────────────────────┴────────────────────────┴───────────────┘\n"
      ]
     },
     "metadata": {},
     "output_type": "display_data"
    },
    {
     "data": {
      "text/html": [
       "<pre style=\"white-space:pre;overflow-x:auto;line-height:normal;font-family:Menlo,'DejaVu Sans Mono',consolas,'Courier New',monospace\"><span style=\"font-weight: bold\"> Total params: </span><span style=\"color: #00af00; text-decoration-color: #00af00\">349,030</span> (1.33 MB)\n",
       "</pre>\n"
      ],
      "text/plain": [
       "\u001b[1m Total params: \u001b[0m\u001b[38;5;34m349,030\u001b[0m (1.33 MB)\n"
      ]
     },
     "metadata": {},
     "output_type": "display_data"
    },
    {
     "data": {
      "text/html": [
       "<pre style=\"white-space:pre;overflow-x:auto;line-height:normal;font-family:Menlo,'DejaVu Sans Mono',consolas,'Courier New',monospace\"><span style=\"font-weight: bold\"> Trainable params: </span><span style=\"color: #00af00; text-decoration-color: #00af00\">349,030</span> (1.33 MB)\n",
       "</pre>\n"
      ],
      "text/plain": [
       "\u001b[1m Trainable params: \u001b[0m\u001b[38;5;34m349,030\u001b[0m (1.33 MB)\n"
      ]
     },
     "metadata": {},
     "output_type": "display_data"
    },
    {
     "data": {
      "text/html": [
       "<pre style=\"white-space:pre;overflow-x:auto;line-height:normal;font-family:Menlo,'DejaVu Sans Mono',consolas,'Courier New',monospace\"><span style=\"font-weight: bold\"> Non-trainable params: </span><span style=\"color: #00af00; text-decoration-color: #00af00\">0</span> (0.00 B)\n",
       "</pre>\n"
      ],
      "text/plain": [
       "\u001b[1m Non-trainable params: \u001b[0m\u001b[38;5;34m0\u001b[0m (0.00 B)\n"
      ]
     },
     "metadata": {},
     "output_type": "display_data"
    }
   ],
   "source": [
    "print(\"build model\")\n",
    "models.compile_models(units=1000, Use_pruning=False,pruning=0.1, use_base_and_Lambda=True, name='reference')\n",
    "models.summary(name='reference')\n"
   ]
  },
  {
   "cell_type": "code",
   "execution_count": 43,
   "id": "a6797438",
   "metadata": {},
   "outputs": [
    {
     "data": {
      "text/plain": [
       "<tf.Tensor: shape=(7,), dtype=int32, numpy=array([ 1, 24,  3, -1, 25,  6,  8], dtype=int32)>"
      ]
     },
     "execution_count": 43,
     "metadata": {},
     "output_type": "execute_result"
    }
   ],
   "source": [
    "models.mask_by_quantile([1,24,3,-1,25,6,8],0.0)"
   ]
  },
  {
   "cell_type": "code",
   "execution_count": 14,
   "id": "e19d9629",
   "metadata": {},
   "outputs": [
    {
     "name": "stdout",
     "output_type": "stream",
     "text": [
      "Epoch 1/20\n",
      "\u001b[1m600/600\u001b[0m \u001b[32m━━━━━━━━━━━━━━━━━━━━\u001b[0m\u001b[37m\u001b[0m \u001b[1m12s\u001b[0m 18ms/step - accuracy: 0.7190 - loss: 0.8073 - val_accuracy: 0.9593 - val_loss: 0.1279\n",
      "Epoch 2/20\n",
      "\u001b[1m600/600\u001b[0m \u001b[32m━━━━━━━━━━━━━━━━━━━━\u001b[0m\u001b[37m\u001b[0m \u001b[1m11s\u001b[0m 18ms/step - accuracy: 0.9736 - loss: 0.0848 - val_accuracy: 0.9772 - val_loss: 0.0715\n",
      "Epoch 3/20\n",
      "\u001b[1m600/600\u001b[0m \u001b[32m━━━━━━━━━━━━━━━━━━━━\u001b[0m\u001b[37m\u001b[0m \u001b[1m11s\u001b[0m 18ms/step - accuracy: 0.9811 - loss: 0.0596 - val_accuracy: 0.9726 - val_loss: 0.0889\n",
      "Epoch 4/20\n",
      "\u001b[1m600/600\u001b[0m \u001b[32m━━━━━━━━━━━━━━━━━━━━\u001b[0m\u001b[37m\u001b[0m \u001b[1m11s\u001b[0m 19ms/step - accuracy: 0.9851 - loss: 0.0436 - val_accuracy: 0.9805 - val_loss: 0.0632\n",
      "Epoch 5/20\n",
      "\u001b[1m600/600\u001b[0m \u001b[32m━━━━━━━━━━━━━━━━━━━━\u001b[0m\u001b[37m\u001b[0m \u001b[1m11s\u001b[0m 19ms/step - accuracy: 0.9873 - loss: 0.0387 - val_accuracy: 0.9803 - val_loss: 0.0670\n",
      "Epoch 6/20\n",
      "\u001b[1m600/600\u001b[0m \u001b[32m━━━━━━━━━━━━━━━━━━━━\u001b[0m\u001b[37m\u001b[0m \u001b[1m11s\u001b[0m 18ms/step - accuracy: 0.9904 - loss: 0.0293 - val_accuracy: 0.9828 - val_loss: 0.0643\n",
      "Epoch 7/20\n",
      "\u001b[1m600/600\u001b[0m \u001b[32m━━━━━━━━━━━━━━━━━━━━\u001b[0m\u001b[37m\u001b[0m \u001b[1m11s\u001b[0m 18ms/step - accuracy: 0.9925 - loss: 0.0212 - val_accuracy: 0.9820 - val_loss: 0.0647\n",
      "Epoch 8/20\n",
      "\u001b[1m600/600\u001b[0m \u001b[32m━━━━━━━━━━━━━━━━━━━━\u001b[0m\u001b[37m\u001b[0m \u001b[1m11s\u001b[0m 18ms/step - accuracy: 0.9923 - loss: 0.0225 - val_accuracy: 0.9813 - val_loss: 0.0777\n",
      "Epoch 9/20\n",
      "\u001b[1m600/600\u001b[0m \u001b[32m━━━━━━━━━━━━━━━━━━━━\u001b[0m\u001b[37m\u001b[0m \u001b[1m11s\u001b[0m 18ms/step - accuracy: 0.9928 - loss: 0.0209 - val_accuracy: 0.9742 - val_loss: 0.1084\n",
      "Epoch 10/20\n",
      "\u001b[1m600/600\u001b[0m \u001b[32m━━━━━━━━━━━━━━━━━━━━\u001b[0m\u001b[37m\u001b[0m \u001b[1m11s\u001b[0m 19ms/step - accuracy: 0.9927 - loss: 0.0228 - val_accuracy: 0.9811 - val_loss: 0.0851\n",
      "Epoch 11/20\n",
      "\u001b[1m600/600\u001b[0m \u001b[32m━━━━━━━━━━━━━━━━━━━━\u001b[0m\u001b[37m\u001b[0m \u001b[1m12s\u001b[0m 20ms/step - accuracy: 0.9948 - loss: 0.0150 - val_accuracy: 0.9796 - val_loss: 0.0969\n",
      "Epoch 12/20\n",
      "\u001b[1m600/600\u001b[0m \u001b[32m━━━━━━━━━━━━━━━━━━━━\u001b[0m\u001b[37m\u001b[0m \u001b[1m11s\u001b[0m 19ms/step - accuracy: 0.9951 - loss: 0.0151 - val_accuracy: 0.9826 - val_loss: 0.0780\n",
      "Epoch 13/20\n",
      "\u001b[1m600/600\u001b[0m \u001b[32m━━━━━━━━━━━━━━━━━━━━\u001b[0m\u001b[37m\u001b[0m \u001b[1m12s\u001b[0m 20ms/step - accuracy: 0.9943 - loss: 0.0164 - val_accuracy: 0.9837 - val_loss: 0.0720\n",
      "Epoch 14/20\n",
      "\u001b[1m600/600\u001b[0m \u001b[32m━━━━━━━━━━━━━━━━━━━━\u001b[0m\u001b[37m\u001b[0m \u001b[1m12s\u001b[0m 19ms/step - accuracy: 0.9959 - loss: 0.0118 - val_accuracy: 0.9824 - val_loss: 0.0913\n",
      "Epoch 15/20\n",
      "\u001b[1m600/600\u001b[0m \u001b[32m━━━━━━━━━━━━━━━━━━━━\u001b[0m\u001b[37m\u001b[0m \u001b[1m12s\u001b[0m 20ms/step - accuracy: 0.9965 - loss: 0.0109 - val_accuracy: 0.9829 - val_loss: 0.0920\n",
      "Epoch 16/20\n",
      "\u001b[1m600/600\u001b[0m \u001b[32m━━━━━━━━━━━━━━━━━━━━\u001b[0m\u001b[37m\u001b[0m \u001b[1m12s\u001b[0m 20ms/step - accuracy: 0.9952 - loss: 0.0145 - val_accuracy: 0.9810 - val_loss: 0.1066\n",
      "Epoch 17/20\n",
      "\u001b[1m600/600\u001b[0m \u001b[32m━━━━━━━━━━━━━━━━━━━━\u001b[0m\u001b[37m\u001b[0m \u001b[1m12s\u001b[0m 20ms/step - accuracy: 0.9960 - loss: 0.0113 - val_accuracy: 0.9824 - val_loss: 0.0956\n",
      "Epoch 18/20\n",
      "\u001b[1m600/600\u001b[0m \u001b[32m━━━━━━━━━━━━━━━━━━━━\u001b[0m\u001b[37m\u001b[0m \u001b[1m12s\u001b[0m 20ms/step - accuracy: 0.9962 - loss: 0.0110 - val_accuracy: 0.9809 - val_loss: 0.1031\n",
      "Epoch 19/20\n",
      "\u001b[1m600/600\u001b[0m \u001b[32m━━━━━━━━━━━━━━━━━━━━\u001b[0m\u001b[37m\u001b[0m \u001b[1m14s\u001b[0m 23ms/step - accuracy: 0.9962 - loss: 0.0123 - val_accuracy: 0.9837 - val_loss: 0.1004\n",
      "Epoch 20/20\n",
      "\u001b[1m600/600\u001b[0m \u001b[32m━━━━━━━━━━━━━━━━━━━━\u001b[0m\u001b[37m\u001b[0m \u001b[1m14s\u001b[0m 23ms/step - accuracy: 0.9974 - loss: 0.0082 - val_accuracy: 0.9811 - val_loss: 0.1011\n"
     ]
    },
    {
     "data": {
      "text/plain": [
       "<keras.src.callbacks.history.History at 0x1ee1c218920>"
      ]
     },
     "execution_count": 14,
     "metadata": {},
     "output_type": "execute_result"
    }
   ],
   "source": [
    "models.train(x_train, y_train, x_test, y_test, name='reference',verbose=1,layers=(3,4))"
   ]
  },
  {
   "cell_type": "code",
   "execution_count": 56,
   "id": "5f5ea01f",
   "metadata": {},
   "outputs": [
    {
     "name": "stdout",
     "output_type": "stream",
     "text": [
      "\u001b[1m100/100\u001b[0m \u001b[32m━━━━━━━━━━━━━━━━━━━━\u001b[0m\u001b[37m\u001b[0m \u001b[1m1s\u001b[0m 7ms/step - accuracy: 0.5029 - loss: 1.6511\n",
      "Accuracy of reference model: 0.511900007724762\n"
     ]
    }
   ],
   "source": [
    "models.evaluate(x_test, y_test,order=0 , name='reference',layers=(3,4),p=0.5)"
   ]
  },
  {
   "cell_type": "code",
   "execution_count": 40,
   "id": "9d9c104d",
   "metadata": {},
   "outputs": [
    {
     "data": {
      "text/html": [
       "<div>\n",
       "<style scoped>\n",
       "    .dataframe tbody tr th:only-of-type {\n",
       "        vertical-align: middle;\n",
       "    }\n",
       "\n",
       "    .dataframe tbody tr th {\n",
       "        vertical-align: top;\n",
       "    }\n",
       "\n",
       "    .dataframe thead th {\n",
       "        text-align: right;\n",
       "    }\n",
       "</style>\n",
       "<table border=\"1\" class=\"dataframe\">\n",
       "  <thead>\n",
       "    <tr style=\"text-align: right;\">\n",
       "      <th></th>\n",
       "      <th>0</th>\n",
       "      <th>1</th>\n",
       "      <th>2</th>\n",
       "      <th>3</th>\n",
       "      <th>4</th>\n",
       "      <th>5</th>\n",
       "      <th>6</th>\n",
       "      <th>7</th>\n",
       "      <th>8</th>\n",
       "      <th>9</th>\n",
       "    </tr>\n",
       "  </thead>\n",
       "  <tbody>\n",
       "    <tr>\n",
       "      <th>0.1</th>\n",
       "      <td>0.8785</td>\n",
       "      <td>0.8760</td>\n",
       "      <td>0.8605</td>\n",
       "      <td>0.8725</td>\n",
       "      <td>0.8600</td>\n",
       "      <td>0.8615</td>\n",
       "      <td>0.8495</td>\n",
       "      <td>0.8375</td>\n",
       "      <td>0.8530</td>\n",
       "      <td>0.8180</td>\n",
       "    </tr>\n",
       "    <tr>\n",
       "      <th>0.2</th>\n",
       "      <td>0.7870</td>\n",
       "      <td>0.7690</td>\n",
       "      <td>0.7720</td>\n",
       "      <td>0.7210</td>\n",
       "      <td>0.8040</td>\n",
       "      <td>0.7730</td>\n",
       "      <td>0.7825</td>\n",
       "      <td>0.7240</td>\n",
       "      <td>0.7325</td>\n",
       "      <td>0.7930</td>\n",
       "    </tr>\n",
       "    <tr>\n",
       "      <th>0.3</th>\n",
       "      <td>0.6790</td>\n",
       "      <td>0.6850</td>\n",
       "      <td>0.6315</td>\n",
       "      <td>0.6080</td>\n",
       "      <td>0.6295</td>\n",
       "      <td>0.6590</td>\n",
       "      <td>0.6250</td>\n",
       "      <td>0.6780</td>\n",
       "      <td>0.7105</td>\n",
       "      <td>0.6985</td>\n",
       "    </tr>\n",
       "    <tr>\n",
       "      <th>0.4</th>\n",
       "      <td>0.5780</td>\n",
       "      <td>0.5795</td>\n",
       "      <td>0.5530</td>\n",
       "      <td>0.4790</td>\n",
       "      <td>0.6265</td>\n",
       "      <td>0.5920</td>\n",
       "      <td>0.5015</td>\n",
       "      <td>0.5255</td>\n",
       "      <td>0.5825</td>\n",
       "      <td>0.5700</td>\n",
       "    </tr>\n",
       "    <tr>\n",
       "      <th>0.5</th>\n",
       "      <td>0.4460</td>\n",
       "      <td>0.4860</td>\n",
       "      <td>0.4185</td>\n",
       "      <td>0.3680</td>\n",
       "      <td>0.3785</td>\n",
       "      <td>0.4510</td>\n",
       "      <td>0.4810</td>\n",
       "      <td>0.4715</td>\n",
       "      <td>0.4840</td>\n",
       "      <td>0.4010</td>\n",
       "    </tr>\n",
       "    <tr>\n",
       "      <th>0.6</th>\n",
       "      <td>0.3470</td>\n",
       "      <td>0.3505</td>\n",
       "      <td>0.2900</td>\n",
       "      <td>0.3875</td>\n",
       "      <td>0.3775</td>\n",
       "      <td>0.3620</td>\n",
       "      <td>0.2810</td>\n",
       "      <td>0.2895</td>\n",
       "      <td>0.3675</td>\n",
       "      <td>0.3025</td>\n",
       "    </tr>\n",
       "    <tr>\n",
       "      <th>0.7</th>\n",
       "      <td>0.2750</td>\n",
       "      <td>0.2325</td>\n",
       "      <td>0.2700</td>\n",
       "      <td>0.2550</td>\n",
       "      <td>0.1810</td>\n",
       "      <td>0.2810</td>\n",
       "      <td>0.2290</td>\n",
       "      <td>0.2875</td>\n",
       "      <td>0.2945</td>\n",
       "      <td>0.2075</td>\n",
       "    </tr>\n",
       "    <tr>\n",
       "      <th>0.8</th>\n",
       "      <td>0.1440</td>\n",
       "      <td>0.2215</td>\n",
       "      <td>0.1435</td>\n",
       "      <td>0.2140</td>\n",
       "      <td>0.1130</td>\n",
       "      <td>0.2200</td>\n",
       "      <td>0.2385</td>\n",
       "      <td>0.1585</td>\n",
       "      <td>0.1750</td>\n",
       "      <td>0.1845</td>\n",
       "    </tr>\n",
       "    <tr>\n",
       "      <th>0.9</th>\n",
       "      <td>0.1025</td>\n",
       "      <td>0.1135</td>\n",
       "      <td>0.1055</td>\n",
       "      <td>0.1235</td>\n",
       "      <td>0.1130</td>\n",
       "      <td>0.1375</td>\n",
       "      <td>0.1100</td>\n",
       "      <td>0.1055</td>\n",
       "      <td>0.1050</td>\n",
       "      <td>0.1060</td>\n",
       "    </tr>\n",
       "    <tr>\n",
       "      <th>1.0</th>\n",
       "      <td>0.1055</td>\n",
       "      <td>0.1055</td>\n",
       "      <td>0.1055</td>\n",
       "      <td>0.1055</td>\n",
       "      <td>0.0985</td>\n",
       "      <td>0.1055</td>\n",
       "      <td>0.0985</td>\n",
       "      <td>0.1055</td>\n",
       "      <td>0.0985</td>\n",
       "      <td>0.1055</td>\n",
       "    </tr>\n",
       "  </tbody>\n",
       "</table>\n",
       "</div>"
      ],
      "text/plain": [
       "          0       1       2       3       4       5       6       7       8  \\\n",
       "0.1  0.8785  0.8760  0.8605  0.8725  0.8600  0.8615  0.8495  0.8375  0.8530   \n",
       "0.2  0.7870  0.7690  0.7720  0.7210  0.8040  0.7730  0.7825  0.7240  0.7325   \n",
       "0.3  0.6790  0.6850  0.6315  0.6080  0.6295  0.6590  0.6250  0.6780  0.7105   \n",
       "0.4  0.5780  0.5795  0.5530  0.4790  0.6265  0.5920  0.5015  0.5255  0.5825   \n",
       "0.5  0.4460  0.4860  0.4185  0.3680  0.3785  0.4510  0.4810  0.4715  0.4840   \n",
       "0.6  0.3470  0.3505  0.2900  0.3875  0.3775  0.3620  0.2810  0.2895  0.3675   \n",
       "0.7  0.2750  0.2325  0.2700  0.2550  0.1810  0.2810  0.2290  0.2875  0.2945   \n",
       "0.8  0.1440  0.2215  0.1435  0.2140  0.1130  0.2200  0.2385  0.1585  0.1750   \n",
       "0.9  0.1025  0.1135  0.1055  0.1235  0.1130  0.1375  0.1100  0.1055  0.1050   \n",
       "1.0  0.1055  0.1055  0.1055  0.1055  0.0985  0.1055  0.0985  0.1055  0.0985   \n",
       "\n",
       "          9  \n",
       "0.1  0.8180  \n",
       "0.2  0.7930  \n",
       "0.3  0.6985  \n",
       "0.4  0.5700  \n",
       "0.5  0.4010  \n",
       "0.6  0.3025  \n",
       "0.7  0.2075  \n",
       "0.8  0.1845  \n",
       "0.9  0.1060  \n",
       "1.0  0.1055  "
      ]
     },
     "execution_count": 40,
     "metadata": {},
     "output_type": "execute_result"
    }
   ],
   "source": [
    "name=\"reference\"\n",
    "models_name=['reference']\n",
    "replication = {'rep':10}  # Number of replications\n",
    "#depth={'N':[50,100, 150, 200, 500, 800, 1000, 1500, 2000, 2500]}\n",
    "depth={'N':[2000]}\n",
    "drop={'p':[0.1,0.2, 0.3, 0.4, 0.5, 0.6, 0.7, 0.8, 0.9, 1]}\n",
    "accuracy:Dict[int,Dict[int,pd.DataFrame]]={i: {} for i in range(10)}\n",
    "for k,p in enumerate(drop.get('p')):\n",
    "    for order in range(replication['rep']):\n",
    "        with open(f\"Robustness/Data/{name}/accuracy{p}_{order}.txt\", \"r\") as f:\n",
    "            accuracy[k][order]=pd.read_csv(f, sep=\" \", header=None)\n",
    "pd.DataFrame({p: [value.loc[0,0] for value in accuracy[k].values()] for k,p in  enumerate(drop.get('p'))}).T\n"
   ]
  },
  {
   "cell_type": "code",
   "execution_count": null,
   "id": "2f8fee4b",
   "metadata": {},
   "outputs": [
    {
     "data": {
      "text/html": [
       "<div>\n",
       "<style scoped>\n",
       "    .dataframe tbody tr th:only-of-type {\n",
       "        vertical-align: middle;\n",
       "    }\n",
       "\n",
       "    .dataframe tbody tr th {\n",
       "        vertical-align: top;\n",
       "    }\n",
       "\n",
       "    .dataframe thead th {\n",
       "        text-align: right;\n",
       "    }\n",
       "</style>\n",
       "<table border=\"1\" class=\"dataframe\">\n",
       "  <thead>\n",
       "    <tr style=\"text-align: right;\">\n",
       "      <th></th>\n",
       "      <th>0</th>\n",
       "    </tr>\n",
       "  </thead>\n",
       "  <tbody>\n",
       "    <tr>\n",
       "      <th>0</th>\n",
       "      <td>0.774</td>\n",
       "    </tr>\n",
       "  </tbody>\n",
       "</table>\n",
       "</div>"
      ],
      "text/plain": [
       "       0\n",
       "0  0.774"
      ]
     },
     "execution_count": 37,
     "metadata": {},
     "output_type": "execute_result"
    }
   ],
   "source": [
    "accuracy[0].values())"
   ]
  },
  {
   "cell_type": "code",
   "execution_count": 39,
   "id": "5476fe00",
   "metadata": {},
   "outputs": [
    {
     "data": {
      "text/html": [
       "<div>\n",
       "<style scoped>\n",
       "    .dataframe tbody tr th:only-of-type {\n",
       "        vertical-align: middle;\n",
       "    }\n",
       "\n",
       "    .dataframe tbody tr th {\n",
       "        vertical-align: top;\n",
       "    }\n",
       "\n",
       "    .dataframe thead th {\n",
       "        text-align: right;\n",
       "    }\n",
       "</style>\n",
       "<table border=\"1\" class=\"dataframe\">\n",
       "  <thead>\n",
       "    <tr style=\"text-align: right;\">\n",
       "      <th></th>\n",
       "      <th>0</th>\n",
       "      <th>1</th>\n",
       "      <th>2</th>\n",
       "      <th>3</th>\n",
       "      <th>4</th>\n",
       "      <th>5</th>\n",
       "      <th>6</th>\n",
       "      <th>7</th>\n",
       "      <th>8</th>\n",
       "      <th>9</th>\n",
       "    </tr>\n",
       "  </thead>\n",
       "  <tbody>\n",
       "    <tr>\n",
       "      <th>0.1</th>\n",
       "      <td>0.7740</td>\n",
       "      <td>0.7950</td>\n",
       "      <td>0.5755</td>\n",
       "      <td>0.6805</td>\n",
       "      <td>0.6480</td>\n",
       "      <td>0.7405</td>\n",
       "      <td>0.6230</td>\n",
       "      <td>0.6925</td>\n",
       "      <td>0.7895</td>\n",
       "      <td>0.7610</td>\n",
       "    </tr>\n",
       "    <tr>\n",
       "      <th>0.2</th>\n",
       "      <td>0.7170</td>\n",
       "      <td>0.7255</td>\n",
       "      <td>0.5035</td>\n",
       "      <td>0.6255</td>\n",
       "      <td>0.5805</td>\n",
       "      <td>0.7155</td>\n",
       "      <td>0.5415</td>\n",
       "      <td>0.6540</td>\n",
       "      <td>0.7375</td>\n",
       "      <td>0.7200</td>\n",
       "    </tr>\n",
       "    <tr>\n",
       "      <th>0.3</th>\n",
       "      <td>0.6980</td>\n",
       "      <td>0.6565</td>\n",
       "      <td>0.4615</td>\n",
       "      <td>0.4670</td>\n",
       "      <td>0.4640</td>\n",
       "      <td>0.6875</td>\n",
       "      <td>0.5250</td>\n",
       "      <td>0.6460</td>\n",
       "      <td>0.7250</td>\n",
       "      <td>0.7200</td>\n",
       "    </tr>\n",
       "    <tr>\n",
       "      <th>0.4</th>\n",
       "      <td>0.6975</td>\n",
       "      <td>0.5670</td>\n",
       "      <td>0.4420</td>\n",
       "      <td>0.4330</td>\n",
       "      <td>0.4640</td>\n",
       "      <td>0.6685</td>\n",
       "      <td>0.5160</td>\n",
       "      <td>0.6445</td>\n",
       "      <td>0.7215</td>\n",
       "      <td>0.7220</td>\n",
       "    </tr>\n",
       "    <tr>\n",
       "      <th>0.5</th>\n",
       "      <td>0.6965</td>\n",
       "      <td>0.5085</td>\n",
       "      <td>0.4345</td>\n",
       "      <td>0.3815</td>\n",
       "      <td>0.4675</td>\n",
       "      <td>0.6680</td>\n",
       "      <td>0.5155</td>\n",
       "      <td>0.6435</td>\n",
       "      <td>0.7130</td>\n",
       "      <td>0.7200</td>\n",
       "    </tr>\n",
       "    <tr>\n",
       "      <th>0.6</th>\n",
       "      <td>0.6925</td>\n",
       "      <td>0.5050</td>\n",
       "      <td>0.4360</td>\n",
       "      <td>0.3800</td>\n",
       "      <td>0.4670</td>\n",
       "      <td>0.6610</td>\n",
       "      <td>0.5070</td>\n",
       "      <td>0.6430</td>\n",
       "      <td>0.7110</td>\n",
       "      <td>0.7095</td>\n",
       "    </tr>\n",
       "    <tr>\n",
       "      <th>0.7</th>\n",
       "      <td>0.6515</td>\n",
       "      <td>0.5030</td>\n",
       "      <td>0.4175</td>\n",
       "      <td>0.3790</td>\n",
       "      <td>0.4660</td>\n",
       "      <td>0.6375</td>\n",
       "      <td>0.5140</td>\n",
       "      <td>0.6380</td>\n",
       "      <td>0.7095</td>\n",
       "      <td>0.7015</td>\n",
       "    </tr>\n",
       "    <tr>\n",
       "      <th>0.8</th>\n",
       "      <td>0.6195</td>\n",
       "      <td>0.4990</td>\n",
       "      <td>0.4075</td>\n",
       "      <td>0.3795</td>\n",
       "      <td>0.4330</td>\n",
       "      <td>0.4920</td>\n",
       "      <td>0.5115</td>\n",
       "      <td>0.6325</td>\n",
       "      <td>0.6820</td>\n",
       "      <td>0.6265</td>\n",
       "    </tr>\n",
       "    <tr>\n",
       "      <th>0.9</th>\n",
       "      <td>0.5690</td>\n",
       "      <td>0.4690</td>\n",
       "      <td>0.3650</td>\n",
       "      <td>0.3425</td>\n",
       "      <td>0.3825</td>\n",
       "      <td>0.4730</td>\n",
       "      <td>0.4810</td>\n",
       "      <td>0.6075</td>\n",
       "      <td>0.6725</td>\n",
       "      <td>0.3450</td>\n",
       "    </tr>\n",
       "    <tr>\n",
       "      <th>1.0</th>\n",
       "      <td>0.3700</td>\n",
       "      <td>0.2850</td>\n",
       "      <td>0.1960</td>\n",
       "      <td>0.2665</td>\n",
       "      <td>0.2075</td>\n",
       "      <td>0.2825</td>\n",
       "      <td>0.2940</td>\n",
       "      <td>0.3065</td>\n",
       "      <td>0.2440</td>\n",
       "      <td>0.2215</td>\n",
       "    </tr>\n",
       "  </tbody>\n",
       "</table>\n",
       "</div>"
      ],
      "text/plain": [
       "          0       1       2       3       4       5       6       7       8  \\\n",
       "0.1  0.7740  0.7950  0.5755  0.6805  0.6480  0.7405  0.6230  0.6925  0.7895   \n",
       "0.2  0.7170  0.7255  0.5035  0.6255  0.5805  0.7155  0.5415  0.6540  0.7375   \n",
       "0.3  0.6980  0.6565  0.4615  0.4670  0.4640  0.6875  0.5250  0.6460  0.7250   \n",
       "0.4  0.6975  0.5670  0.4420  0.4330  0.4640  0.6685  0.5160  0.6445  0.7215   \n",
       "0.5  0.6965  0.5085  0.4345  0.3815  0.4675  0.6680  0.5155  0.6435  0.7130   \n",
       "0.6  0.6925  0.5050  0.4360  0.3800  0.4670  0.6610  0.5070  0.6430  0.7110   \n",
       "0.7  0.6515  0.5030  0.4175  0.3790  0.4660  0.6375  0.5140  0.6380  0.7095   \n",
       "0.8  0.6195  0.4990  0.4075  0.3795  0.4330  0.4920  0.5115  0.6325  0.6820   \n",
       "0.9  0.5690  0.4690  0.3650  0.3425  0.3825  0.4730  0.4810  0.6075  0.6725   \n",
       "1.0  0.3700  0.2850  0.1960  0.2665  0.2075  0.2825  0.2940  0.3065  0.2440   \n",
       "\n",
       "          9  \n",
       "0.1  0.7610  \n",
       "0.2  0.7200  \n",
       "0.3  0.7200  \n",
       "0.4  0.7220  \n",
       "0.5  0.7200  \n",
       "0.6  0.7095  \n",
       "0.7  0.7015  \n",
       "0.8  0.6265  \n",
       "0.9  0.3450  \n",
       "1.0  0.2215  "
      ]
     },
     "execution_count": 39,
     "metadata": {},
     "output_type": "execute_result"
    }
   ],
   "source": [
    "pd.DataFrame({p: [value.loc[0,0] for value in accuracy[k].values()] for k,p in  enumerate(drop.get('p'))}).T"
   ]
  },
  {
   "cell_type": "markdown",
   "id": "f9b678fa",
   "metadata": {},
   "source": [
    "# OTHERS ANALYSIS "
   ]
  },
  {
   "cell_type": "code",
   "execution_count": null,
   "id": "60e6d7cf",
   "metadata": {},
   "outputs": [],
   "source": [
    "# Exemple de liste de réels\n",
    "# valeurs = [1.2, 2.5, 1.2, 3.8, 2.5, 2.5, 4.0, 3.8, 1.2]\n",
    "# Créer un histogramme\n",
    "plt.hist(value[0].numpy().tolist(), bins='auto', edgecolor='black', density=True)\n",
    "# Ajouter des titres et labels\n",
    "plt.xlabel(r\"$\\Lambda^{in}$\")\n",
    "plt.ylabel(\"freq\")\n",
    "plt.title(r\"Repartition des valeurs de $\\Lambda^{in}$\")\n",
    "plt.grid(True)\n",
    "plt.savefig('Lambda.pdf')\n",
    "plt.show()"
   ]
  },
  {
   "cell_type": "code",
   "execution_count": null,
   "id": "ddcae776",
   "metadata": {},
   "outputs": [],
   "source": [
    "spectral_config = {  'is_base_trainable': False,\n",
    "                     'is_diag_start_trainable': False,\n",
    "                     'is_diag_end_trainable': True,\n",
    "                     'use_bias': True\n",
    "                    }\n",
    "\n",
    "spectral_cnn1d_config ={ 'kernel_size': 3,\n",
    "                         'stride': 2,\n",
    "                         'padding': 0,\n",
    "                         'trainable_phi':False,\n",
    "                         'use_lambda_out':False,\n",
    "                         'use_lambda_in' : True,\n",
    "                         'use_bias': True}\n",
    "\n",
    "maxpooling_config ={ 'pool_size': 2,\n",
    "                     'strides': 1,\n",
    "                     'padding': 'valid' }\n",
    "\n",
    "hyperparameters = { 'filters' :20,\n",
    "                    'input_shape' :40,\n",
    "                    'learning_rate' : 0.01,\n",
    "                    'epochs' : 20,\n",
    "                    'batch_size' :100,\n",
    "                    'activation': 'relu',\n",
    "                    'labels' : 10}"
   ]
  },
  {
   "cell_type": "code",
   "execution_count": null,
   "id": "29f3358b",
   "metadata": {},
   "outputs": [],
   "source": [
    "model = tf.keras.Sequential()\n",
    "model.add(tf.keras.layers.Input(shape=(hyperparameters.get('input_shape'),)))\n",
    "\n",
    "#model.add(Conv1D(filters=20, kernel_size=3, strides=1,activation='relu', padding='valid'))\n",
    "\n",
    "model.add(SpecCnn1d_(filters=hyperparameters.get('filters'), **spectral_cnn1d_config,activation=hyperparameters.get('activation')))\n",
    "\n",
    "model.add(tf.keras.layers.MaxPooling1D(**maxpooling_config))\n",
    "\n",
    "model.add(tf.keras.layers.Flatten())\n",
    "\n",
    "model.add(Spectral(2000, **spectral_config, activation=hyperparameters.get('activation')))\n",
    "model.add(Spectral(hyperparameters.get('labels'), **spectral_config, activation='softmax'))\n",
    "\n",
    "opt = tf.keras.optimizers.Adam(learning_rate=hyperparameters.get('learning_rate'))\n",
    "model.compile(optimizer=opt, loss='sparse_categorical_crossentropy', metrics=['accuracy'])\n",
    "model.summary()"
   ]
  },
  {
   "cell_type": "code",
   "execution_count": null,
   "id": "b75fbfd9",
   "metadata": {},
   "outputs": [],
   "source": [
    "model.fit(x_train, y_train, epochs=hyperparameters.get('epochs'), batch_size=hyperparameters.get('batch_size'), validation_data=(x_test, y_test))"
   ]
  }
 ],
 "metadata": {
  "kernelspec": {
   "display_name": "mon_env",
   "language": "python",
   "name": "python3"
  },
  "language_info": {
   "codemirror_mode": {
    "name": "ipython",
    "version": 3
   },
   "file_extension": ".py",
   "mimetype": "text/x-python",
   "name": "python",
   "nbconvert_exporter": "python",
   "pygments_lexer": "ipython3",
   "version": "3.12.6"
  }
 },
 "nbformat": 4,
 "nbformat_minor": 5
}
