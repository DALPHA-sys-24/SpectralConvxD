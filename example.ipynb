{
 "cells": [
  {
   "cell_type": "code",
   "execution_count": 1,
   "id": "ab008afe",
   "metadata": {},
   "outputs": [],
   "source": [
    "import SpectralConvxD as spc\n",
    "\n"
   ]
  },
  {
   "cell_type": "code",
   "execution_count": 2,
   "id": "dd8b0072",
   "metadata": {},
   "outputs": [
    {
     "name": "stdout",
     "output_type": "stream",
     "text": [
      "Did or could not load data from ./mnist1d_data.pkl. Rebuilding dataset...\n"
     ]
    }
   ],
   "source": [
    "x_train, y_train,x_test, y_test=spc.generate_data(name_data='mnist1d')\n"
   ]
  },
  {
   "cell_type": "code",
   "execution_count": 3,
   "id": "e1c63b33",
   "metadata": {},
   "outputs": [
    {
     "name": "stdout",
     "output_type": "stream",
     "text": [
      "['reference', 'Dspec', 'specConvXd']\n"
     ]
    }
   ],
   "source": [
    "models_pars={'reference':\n",
    "                    {\"spectral_config\":{ 'is_base_trainable': True,\n",
    "                                        'is_diag_start_trainable': False,\n",
    "                                        'is_diag_end_trainable': False,\n",
    "                                        'use_bias': True\n",
    "                                        },\n",
    "                     \"spectral_cnn1d_config\":{ 'kernel_size': 3,\n",
    "                                                'stride': 1,\n",
    "                                                'padding': 0,\n",
    "                                                'trainable_phi':True,\n",
    "                                                'use_lambda_out':False,\n",
    "                                                'use_lambda_in' : False,\n",
    "                                                'use_bias': True\n",
    "                                              },\n",
    "                     \"spectral_cnn2d_config\":{ 'kernel_size': 3,\n",
    "                                                'strides': 1,\n",
    "                                                'padding': 'VALID',\n",
    "                                                \"use_lambda_out\":False,\n",
    "                                                \"use_lambda_in\":False,\n",
    "                                                \"use_encode\":False,\n",
    "                                                \"use_decode\":False,\n",
    "                                                'use_bias': True,\n",
    "                                                \"trainable_omega_diag\":True,\n",
    "                                                \"trainable_omega_triu\":True,\n",
    "                                                \"trainable_omega_tril\":True,\n",
    "                                                \"trainable_aggregate\":False,\n",
    "                                                }\n",
    "                    },\n",
    "                    \n",
    "             'Dspec':{\"spectral_config\":{ 'is_base_trainable': True,\n",
    "                                        'is_diag_start_trainable': False,\n",
    "                                        'is_diag_end_trainable': False,\n",
    "                                        'use_bias': True\n",
    "                                        },\n",
    "                     \"spectral_cnn1d_config\":{ 'kernel_size': 3,\n",
    "                                                'stride': 1,\n",
    "                                                'padding': 0,\n",
    "                                                'trainable_phi':False,\n",
    "                                                'use_lambda_out':False,\n",
    "                                                'use_lambda_in' : True,\n",
    "                                                'use_bias': True\n",
    "                                              },\n",
    "                     \"spectral_cnn2d_config\":{ 'kernel_size': 3,\n",
    "                                                'strides': 1,\n",
    "                                                'padding': 'VALID',\n",
    "                                                \"use_lambda_out\":False,\n",
    "                                                \"use_lambda_in\":False,\n",
    "                                                \"use_encode\":False,\n",
    "                                                \"use_decode\":True,\n",
    "                                                'use_bias': True,\n",
    "                                                \"trainable_omega_diag\":False,\n",
    "                                                \"trainable_omega_triu\":False,\n",
    "                                                \"trainable_omega_tril\":False,\n",
    "                                                \"trainable_aggregate\":False,\n",
    "                                                }\n",
    "                    },\n",
    "             \n",
    "             'specConvXd':{\"spectral_config\":{ 'is_base_trainable': False,\n",
    "                                        'is_diag_start_trainable': False,\n",
    "                                        'is_diag_end_trainable': True,\n",
    "                                        'use_bias': True\n",
    "                                        },\n",
    "                     \"spectral_cnn1d_config\":{ 'kernel_size': 3,\n",
    "                                                'stride': 1,\n",
    "                                                'padding': 1,\n",
    "                                                'trainable_phi':True,\n",
    "                                                'use_lambda_out':False,\n",
    "                                                'use_lambda_in' : True,\n",
    "                                                'use_bias': True\n",
    "                                              },\n",
    "                     \"spectral_cnn2d_config\":{ 'kernel_size': 3,\n",
    "                                                'strides': 1,\n",
    "                                                'padding': 'VALID',\n",
    "                                                \"use_lambda_out\":False,\n",
    "                                                \"use_lambda_in\":False,\n",
    "                                                \"use_encode\":False,\n",
    "                                                \"use_decode\":True,\n",
    "                                                'use_bias': True,\n",
    "                                                \"trainable_omega_diag\":False,\n",
    "                                                \"trainable_omega_triu\":False,\n",
    "                                                \"trainable_omega_tril\":False,\n",
    "                                                \"trainable_aggregate\":False,\n",
    "                                                }\n",
    "                    }\n",
    "            }\n",
    "models_name=list(models_pars.keys())\n",
    "print(models_name)"
   ]
  },
  {
   "cell_type": "code",
   "execution_count": 4,
   "id": "774c82ae",
   "metadata": {},
   "outputs": [],
   "source": [
    "maxpooling_config ={'strides': 1,\n",
    "                     'padding': 'valid' }\n",
    "\n",
    "hyperparameters = { 'filters' :20,\n",
    "                    'input_shape' :(40,),\n",
    "                    'learning_rate' : 0.01,\n",
    "                    'epochs' : 20,\n",
    "                    'batch_size' :100,\n",
    "                    'activation': 'relu',\n",
    "                    'labels' : 10,\n",
    "                    'conxd':1,\n",
    "                    'pool_size':2,\n",
    "                    'pruning':None,\n",
    "                    'Use_pruning':None,\n",
    "                    'use_base_and_Lambda':None}"
   ]
  },
  {
   "cell_type": "code",
   "execution_count": 5,
   "id": "7ea8002f",
   "metadata": {},
   "outputs": [],
   "source": [
    "models = spc.SpectralCnn(hyperparameters=hyperparameters,maxpooling_config=maxpooling_config)"
   ]
  },
  {
   "cell_type": "code",
   "execution_count": 6,
   "id": "1b58a2c2",
   "metadata": {},
   "outputs": [
    {
     "name": "stdout",
     "output_type": "stream",
     "text": [
      "WARNING:tensorflow:From C:\\Users\\jketchak\\AppData\\Roaming\\Python\\Python312\\site-packages\\keras\\src\\backend\\tensorflow\\core.py:216: The name tf.placeholder is deprecated. Please use tf.compat.v1.placeholder instead.\n",
      "\n",
      "specConvXd model summary:\n",
      " \n"
     ]
    },
    {
     "data": {
      "text/html": [
       "<pre style=\"white-space:pre;overflow-x:auto;line-height:normal;font-family:Menlo,'DejaVu Sans Mono',consolas,'Courier New',monospace\"><span style=\"font-weight: bold\">Model: \"sequential\"</span>\n",
       "</pre>\n"
      ],
      "text/plain": [
       "\u001b[1mModel: \"sequential\"\u001b[0m\n"
      ]
     },
     "metadata": {},
     "output_type": "display_data"
    },
    {
     "data": {
      "text/html": [
       "<pre style=\"white-space:pre;overflow-x:auto;line-height:normal;font-family:Menlo,'DejaVu Sans Mono',consolas,'Courier New',monospace\">┏━━━━━━━━━━━━━━━━━━━━━━━━━━━━━━━━━┳━━━━━━━━━━━━━━━━━━━━━━━━┳━━━━━━━━━━━━━━━┓\n",
       "┃<span style=\"font-weight: bold\"> Layer (type)                    </span>┃<span style=\"font-weight: bold\"> Output Shape           </span>┃<span style=\"font-weight: bold\">       Param # </span>┃\n",
       "┡━━━━━━━━━━━━━━━━━━━━━━━━━━━━━━━━━╇━━━━━━━━━━━━━━━━━━━━━━━━╇━━━━━━━━━━━━━━━┩\n",
       "│ spec_cnn1d (<span style=\"color: #0087ff; text-decoration-color: #0087ff\">SpecCnn1D</span>)          │ (<span style=\"color: #00d7ff; text-decoration-color: #00d7ff\">None</span>, <span style=\"color: #00af00; text-decoration-color: #00af00\">40</span>, <span style=\"color: #00af00; text-decoration-color: #00af00\">20</span>)         │           <span style=\"color: #00af00; text-decoration-color: #00af00\">920</span> │\n",
       "├─────────────────────────────────┼────────────────────────┼───────────────┤\n",
       "│ max_pooling1d (<span style=\"color: #0087ff; text-decoration-color: #0087ff\">MaxPooling1D</span>)    │ (<span style=\"color: #00d7ff; text-decoration-color: #00d7ff\">None</span>, <span style=\"color: #00af00; text-decoration-color: #00af00\">39</span>, <span style=\"color: #00af00; text-decoration-color: #00af00\">20</span>)         │             <span style=\"color: #00af00; text-decoration-color: #00af00\">0</span> │\n",
       "├─────────────────────────────────┼────────────────────────┼───────────────┤\n",
       "│ flatten (<span style=\"color: #0087ff; text-decoration-color: #0087ff\">Flatten</span>)               │ (<span style=\"color: #00d7ff; text-decoration-color: #00d7ff\">None</span>, <span style=\"color: #00af00; text-decoration-color: #00af00\">780</span>)            │             <span style=\"color: #00af00; text-decoration-color: #00af00\">0</span> │\n",
       "├─────────────────────────────────┼────────────────────────┼───────────────┤\n",
       "│ spectral (<span style=\"color: #0087ff; text-decoration-color: #0087ff\">Spectral</span>)             │ (<span style=\"color: #00d7ff; text-decoration-color: #00d7ff\">None</span>, <span style=\"color: #00af00; text-decoration-color: #00af00\">2500</span>)           │         <span style=\"color: #00af00; text-decoration-color: #00af00\">5,000</span> │\n",
       "├─────────────────────────────────┼────────────────────────┼───────────────┤\n",
       "│ spectral_1 (<span style=\"color: #0087ff; text-decoration-color: #0087ff\">Spectral</span>)           │ (<span style=\"color: #00d7ff; text-decoration-color: #00d7ff\">None</span>, <span style=\"color: #00af00; text-decoration-color: #00af00\">10</span>)             │            <span style=\"color: #00af00; text-decoration-color: #00af00\">20</span> │\n",
       "└─────────────────────────────────┴────────────────────────┴───────────────┘\n",
       "</pre>\n"
      ],
      "text/plain": [
       "┏━━━━━━━━━━━━━━━━━━━━━━━━━━━━━━━━━┳━━━━━━━━━━━━━━━━━━━━━━━━┳━━━━━━━━━━━━━━━┓\n",
       "┃\u001b[1m \u001b[0m\u001b[1mLayer (type)                   \u001b[0m\u001b[1m \u001b[0m┃\u001b[1m \u001b[0m\u001b[1mOutput Shape          \u001b[0m\u001b[1m \u001b[0m┃\u001b[1m \u001b[0m\u001b[1m      Param #\u001b[0m\u001b[1m \u001b[0m┃\n",
       "┡━━━━━━━━━━━━━━━━━━━━━━━━━━━━━━━━━╇━━━━━━━━━━━━━━━━━━━━━━━━╇━━━━━━━━━━━━━━━┩\n",
       "│ spec_cnn1d (\u001b[38;5;33mSpecCnn1D\u001b[0m)          │ (\u001b[38;5;45mNone\u001b[0m, \u001b[38;5;34m40\u001b[0m, \u001b[38;5;34m20\u001b[0m)         │           \u001b[38;5;34m920\u001b[0m │\n",
       "├─────────────────────────────────┼────────────────────────┼───────────────┤\n",
       "│ max_pooling1d (\u001b[38;5;33mMaxPooling1D\u001b[0m)    │ (\u001b[38;5;45mNone\u001b[0m, \u001b[38;5;34m39\u001b[0m, \u001b[38;5;34m20\u001b[0m)         │             \u001b[38;5;34m0\u001b[0m │\n",
       "├─────────────────────────────────┼────────────────────────┼───────────────┤\n",
       "│ flatten (\u001b[38;5;33mFlatten\u001b[0m)               │ (\u001b[38;5;45mNone\u001b[0m, \u001b[38;5;34m780\u001b[0m)            │             \u001b[38;5;34m0\u001b[0m │\n",
       "├─────────────────────────────────┼────────────────────────┼───────────────┤\n",
       "│ spectral (\u001b[38;5;33mSpectral\u001b[0m)             │ (\u001b[38;5;45mNone\u001b[0m, \u001b[38;5;34m2500\u001b[0m)           │         \u001b[38;5;34m5,000\u001b[0m │\n",
       "├─────────────────────────────────┼────────────────────────┼───────────────┤\n",
       "│ spectral_1 (\u001b[38;5;33mSpectral\u001b[0m)           │ (\u001b[38;5;45mNone\u001b[0m, \u001b[38;5;34m10\u001b[0m)             │            \u001b[38;5;34m20\u001b[0m │\n",
       "└─────────────────────────────────┴────────────────────────┴───────────────┘\n"
      ]
     },
     "metadata": {},
     "output_type": "display_data"
    },
    {
     "data": {
      "text/html": [
       "<pre style=\"white-space:pre;overflow-x:auto;line-height:normal;font-family:Menlo,'DejaVu Sans Mono',consolas,'Courier New',monospace\"><span style=\"font-weight: bold\"> Total params: </span><span style=\"color: #00af00; text-decoration-color: #00af00\">5,940</span> (23.20 KB)\n",
       "</pre>\n"
      ],
      "text/plain": [
       "\u001b[1m Total params: \u001b[0m\u001b[38;5;34m5,940\u001b[0m (23.20 KB)\n"
      ]
     },
     "metadata": {},
     "output_type": "display_data"
    },
    {
     "data": {
      "text/html": [
       "<pre style=\"white-space:pre;overflow-x:auto;line-height:normal;font-family:Menlo,'DejaVu Sans Mono',consolas,'Courier New',monospace\"><span style=\"font-weight: bold\"> Trainable params: </span><span style=\"color: #00af00; text-decoration-color: #00af00\">5,940</span> (23.20 KB)\n",
       "</pre>\n"
      ],
      "text/plain": [
       "\u001b[1m Trainable params: \u001b[0m\u001b[38;5;34m5,940\u001b[0m (23.20 KB)\n"
      ]
     },
     "metadata": {},
     "output_type": "display_data"
    },
    {
     "data": {
      "text/html": [
       "<pre style=\"white-space:pre;overflow-x:auto;line-height:normal;font-family:Menlo,'DejaVu Sans Mono',consolas,'Courier New',monospace\"><span style=\"font-weight: bold\"> Non-trainable params: </span><span style=\"color: #00af00; text-decoration-color: #00af00\">0</span> (0.00 B)\n",
       "</pre>\n"
      ],
      "text/plain": [
       "\u001b[1m Non-trainable params: \u001b[0m\u001b[38;5;34m0\u001b[0m (0.00 B)\n"
      ]
     },
     "metadata": {},
     "output_type": "display_data"
    }
   ],
   "source": [
    "inv=2\n",
    "models.compile_models(units=2500,spectral_config=models_pars.get(models_name[inv]).get('spectral_config'),\n",
    "                      spectral_cnn1d_config=models_pars.get(models_name[inv]).get('spectral_cnn1d_config'),\n",
    "                      spectral_cnn2d_config=models_pars.get(models_name[inv]).get('spectral_cnn2d_config'),\n",
    "                      name=models_name[inv])\n",
    "models.summary(name=models_name[inv])"
   ]
  },
  {
   "cell_type": "code",
   "execution_count": 7,
   "id": "548d4b2a",
   "metadata": {},
   "outputs": [
    {
     "name": "stdout",
     "output_type": "stream",
     "text": [
      "Epoch 1/20\n",
      "\u001b[1m80/80\u001b[0m \u001b[32m━━━━━━━━━━━━━━━━━━━━\u001b[0m\u001b[37m\u001b[0m \u001b[1m1s\u001b[0m 9ms/step - accuracy: 0.2331 - loss: 4.9475 - val_accuracy: 0.4550 - val_loss: 1.4280\n",
      "Epoch 2/20\n",
      "\u001b[1m80/80\u001b[0m \u001b[32m━━━━━━━━━━━━━━━━━━━━\u001b[0m\u001b[37m\u001b[0m \u001b[1m1s\u001b[0m 8ms/step - accuracy: 0.4935 - loss: 1.3364 - val_accuracy: 0.5310 - val_loss: 1.2364\n",
      "Epoch 3/20\n",
      "\u001b[1m80/80\u001b[0m \u001b[32m━━━━━━━━━━━━━━━━━━━━\u001b[0m\u001b[37m\u001b[0m \u001b[1m1s\u001b[0m 8ms/step - accuracy: 0.5713 - loss: 1.1431 - val_accuracy: 0.5870 - val_loss: 1.0838\n",
      "Epoch 4/20\n",
      "\u001b[1m80/80\u001b[0m \u001b[32m━━━━━━━━━━━━━━━━━━━━\u001b[0m\u001b[37m\u001b[0m \u001b[1m1s\u001b[0m 8ms/step - accuracy: 0.6306 - loss: 0.9941 - val_accuracy: 0.6115 - val_loss: 1.0178\n",
      "Epoch 5/20\n",
      "\u001b[1m80/80\u001b[0m \u001b[32m━━━━━━━━━━━━━━━━━━━━\u001b[0m\u001b[37m\u001b[0m \u001b[1m1s\u001b[0m 8ms/step - accuracy: 0.6537 - loss: 0.9270 - val_accuracy: 0.6445 - val_loss: 0.9557\n",
      "Epoch 6/20\n",
      "\u001b[1m80/80\u001b[0m \u001b[32m━━━━━━━━━━━━━━━━━━━━\u001b[0m\u001b[37m\u001b[0m \u001b[1m1s\u001b[0m 8ms/step - accuracy: 0.6899 - loss: 0.8252 - val_accuracy: 0.6680 - val_loss: 0.8624\n",
      "Epoch 7/20\n",
      "\u001b[1m80/80\u001b[0m \u001b[32m━━━━━━━━━━━━━━━━━━━━\u001b[0m\u001b[37m\u001b[0m \u001b[1m1s\u001b[0m 8ms/step - accuracy: 0.6912 - loss: 0.8005 - val_accuracy: 0.6750 - val_loss: 0.8409\n",
      "Epoch 8/20\n",
      "\u001b[1m80/80\u001b[0m \u001b[32m━━━━━━━━━━━━━━━━━━━━\u001b[0m\u001b[37m\u001b[0m \u001b[1m1s\u001b[0m 8ms/step - accuracy: 0.7248 - loss: 0.7400 - val_accuracy: 0.6985 - val_loss: 0.8025\n",
      "Epoch 9/20\n",
      "\u001b[1m80/80\u001b[0m \u001b[32m━━━━━━━━━━━━━━━━━━━━\u001b[0m\u001b[37m\u001b[0m \u001b[1m1s\u001b[0m 8ms/step - accuracy: 0.7519 - loss: 0.6749 - val_accuracy: 0.6865 - val_loss: 0.8315\n",
      "Epoch 10/20\n",
      "\u001b[1m80/80\u001b[0m \u001b[32m━━━━━━━━━━━━━━━━━━━━\u001b[0m\u001b[37m\u001b[0m \u001b[1m1s\u001b[0m 8ms/step - accuracy: 0.7670 - loss: 0.6375 - val_accuracy: 0.7055 - val_loss: 0.7809\n",
      "Epoch 11/20\n",
      "\u001b[1m80/80\u001b[0m \u001b[32m━━━━━━━━━━━━━━━━━━━━\u001b[0m\u001b[37m\u001b[0m \u001b[1m1s\u001b[0m 8ms/step - accuracy: 0.7617 - loss: 0.6477 - val_accuracy: 0.7150 - val_loss: 0.7384\n",
      "Epoch 12/20\n",
      "\u001b[1m80/80\u001b[0m \u001b[32m━━━━━━━━━━━━━━━━━━━━\u001b[0m\u001b[37m\u001b[0m \u001b[1m1s\u001b[0m 8ms/step - accuracy: 0.7764 - loss: 0.5881 - val_accuracy: 0.7075 - val_loss: 0.7470\n",
      "Epoch 13/20\n",
      "\u001b[1m80/80\u001b[0m \u001b[32m━━━━━━━━━━━━━━━━━━━━\u001b[0m\u001b[37m\u001b[0m \u001b[1m1s\u001b[0m 8ms/step - accuracy: 0.7857 - loss: 0.5735 - val_accuracy: 0.7085 - val_loss: 0.7879\n",
      "Epoch 14/20\n",
      "\u001b[1m80/80\u001b[0m \u001b[32m━━━━━━━━━━━━━━━━━━━━\u001b[0m\u001b[37m\u001b[0m \u001b[1m1s\u001b[0m 8ms/step - accuracy: 0.7940 - loss: 0.5675 - val_accuracy: 0.7535 - val_loss: 0.6851\n",
      "Epoch 15/20\n",
      "\u001b[1m80/80\u001b[0m \u001b[32m━━━━━━━━━━━━━━━━━━━━\u001b[0m\u001b[37m\u001b[0m \u001b[1m1s\u001b[0m 8ms/step - accuracy: 0.8046 - loss: 0.5162 - val_accuracy: 0.7410 - val_loss: 0.7126\n",
      "Epoch 16/20\n",
      "\u001b[1m80/80\u001b[0m \u001b[32m━━━━━━━━━━━━━━━━━━━━\u001b[0m\u001b[37m\u001b[0m \u001b[1m1s\u001b[0m 8ms/step - accuracy: 0.7992 - loss: 0.5294 - val_accuracy: 0.7300 - val_loss: 0.7113\n",
      "Epoch 17/20\n",
      "\u001b[1m80/80\u001b[0m \u001b[32m━━━━━━━━━━━━━━━━━━━━\u001b[0m\u001b[37m\u001b[0m \u001b[1m1s\u001b[0m 8ms/step - accuracy: 0.8105 - loss: 0.5261 - val_accuracy: 0.7505 - val_loss: 0.6681\n",
      "Epoch 18/20\n",
      "\u001b[1m80/80\u001b[0m \u001b[32m━━━━━━━━━━━━━━━━━━━━\u001b[0m\u001b[37m\u001b[0m \u001b[1m1s\u001b[0m 9ms/step - accuracy: 0.8201 - loss: 0.4983 - val_accuracy: 0.7605 - val_loss: 0.6522\n",
      "Epoch 19/20\n",
      "\u001b[1m80/80\u001b[0m \u001b[32m━━━━━━━━━━━━━━━━━━━━\u001b[0m\u001b[37m\u001b[0m \u001b[1m1s\u001b[0m 9ms/step - accuracy: 0.8415 - loss: 0.4522 - val_accuracy: 0.7695 - val_loss: 0.6394\n",
      "Epoch 20/20\n",
      "\u001b[1m80/80\u001b[0m \u001b[32m━━━━━━━━━━━━━━━━━━━━\u001b[0m\u001b[37m\u001b[0m \u001b[1m1s\u001b[0m 9ms/step - accuracy: 0.8245 - loss: 0.4790 - val_accuracy: 0.7675 - val_loss: 0.6356\n"
     ]
    },
    {
     "data": {
      "text/plain": [
       "<keras.src.callbacks.history.History at 0x232ff367aa0>"
      ]
     },
     "execution_count": 7,
     "metadata": {},
     "output_type": "execute_result"
    }
   ],
   "source": [
    "models.train(x_train, y_train, x_test, y_test, name=models_name[inv],verbose=1,layers=(3,4))"
   ]
  },
  {
   "cell_type": "code",
   "execution_count": 8,
   "id": "9fda4a6b",
   "metadata": {},
   "outputs": [
    {
     "data": {
      "text/plain": [
       "{'filters': 20,\n",
       " 'input_shape': (40,),\n",
       " 'learning_rate': 0.01,\n",
       " 'epochs': 20,\n",
       " 'batch_size': 100,\n",
       " 'activation': 'relu',\n",
       " 'labels': 10,\n",
       " 'conxd': 1,\n",
       " 'pool_size': 2,\n",
       " 'pruning': None,\n",
       " 'Use_pruning': None,\n",
       " 'use_base_and_Lambda': None,\n",
       " 'units': 2500}"
      ]
     },
     "execution_count": 8,
     "metadata": {},
     "output_type": "execute_result"
    }
   ],
   "source": [
    "models.get_hyperparameters()"
   ]
  }
 ],
 "metadata": {
  "kernelspec": {
   "display_name": "Python 3",
   "language": "python",
   "name": "python3"
  },
  "language_info": {
   "codemirror_mode": {
    "name": "ipython",
    "version": 3
   },
   "file_extension": ".py",
   "mimetype": "text/x-python",
   "name": "python",
   "nbconvert_exporter": "python",
   "pygments_lexer": "ipython3",
   "version": "3.12.6"
  }
 },
 "nbformat": 4,
 "nbformat_minor": 5
}
