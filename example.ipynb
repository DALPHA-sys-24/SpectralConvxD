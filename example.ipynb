{
 "cells": [
  {
   "cell_type": "code",
   "execution_count": 12,
   "id": "ab008afe",
   "metadata": {},
   "outputs": [
    {
     "name": "stdout",
     "output_type": "stream",
     "text": [
      "The autoreload extension is already loaded. To reload it, use:\n",
      "  %reload_ext autoreload\n"
     ]
    }
   ],
   "source": [
    "%load_ext autoreload\n",
    "%autoreload 2\n",
    "import SpectralConvxD as spc\n",
    "import numpy as np\n",
    "import tensorflow as tf\n",
    "import copy \n",
    "from typing import Any\n",
    "\n"
   ]
  },
  {
   "cell_type": "code",
   "execution_count": 4,
   "id": "dd8b0072",
   "metadata": {},
   "outputs": [
    {
     "name": "stdout",
     "output_type": "stream",
     "text": [
      "Did or could not load data from ./mnist1d_data.pkl. Rebuilding dataset...\n"
     ]
    }
   ],
   "source": [
    "x_train, y_train,x_test, y_test=spc.generate_data(name_data='mnist1d')\n"
   ]
  },
  {
   "cell_type": "code",
   "execution_count": 22,
   "id": "774c82ae",
   "metadata": {},
   "outputs": [],
   "source": [
    "maxpooling_config ={'strides': 1,\n",
    "                     'padding': 'valid' }\n",
    "\n",
    "hyperparameters = { 'filters' :20,\n",
    "                    'input_shape' :(40,),\n",
    "                    'learning_rate' : 0.03,\n",
    "                    'epochs' : 10,\n",
    "                    'batch_size' :100,\n",
    "                    'activation': 'relu',\n",
    "                    'labels' : 20,\n",
    "                    'conxd':1,\n",
    "                    'pool_size':2,\n",
    "                    'full_training':True,\n",
    "                    'pre_training': False,\n",
    "                    }"
   ]
  },
  {
   "cell_type": "code",
   "execution_count": 17,
   "id": "eea23f31",
   "metadata": {},
   "outputs": [],
   "source": [
    "replication = {'rep':5} \n",
    "depth={'N':[2500]}\n",
    "drop={'p':[0,0.05,0.1,0.15,0.2,0.25, 0.3,0.35, 0.4,0.45, 0.5,0.55, 0.6,0.65, 0.7, 0.75,0.8, 0.85,0.9,0.95,1]}\n",
    "path =r\"C:\\Users\\jketchak\\Documents\\DALPHAcommunity\\UNAMUR\\EUREKA\\btwg_ml\\SpectralConvxD\\SpectralConvxD\\DataWarehouse\\dtest\"\n",
    "path=spc.utils.remplacer_backslash(path)"
   ]
  },
  {
   "cell_type": "code",
   "execution_count": 28,
   "id": "1b58a2c2",
   "metadata": {},
   "outputs": [
    {
     "name": "stdout",
     "output_type": "stream",
     "text": [
      "Full training:No pre training: Spectral compactness\n",
      "specConvXd model summary:\n",
      " \n"
     ]
    },
    {
     "data": {
      "text/html": [
       "<pre style=\"white-space:pre;overflow-x:auto;line-height:normal;font-family:Menlo,'DejaVu Sans Mono',consolas,'Courier New',monospace\"><span style=\"font-weight: bold\">Model: \"sequential_15\"</span>\n",
       "</pre>\n"
      ],
      "text/plain": [
       "\u001b[1mModel: \"sequential_15\"\u001b[0m\n"
      ]
     },
     "metadata": {},
     "output_type": "display_data"
    },
    {
     "data": {
      "text/html": [
       "<pre style=\"white-space:pre;overflow-x:auto;line-height:normal;font-family:Menlo,'DejaVu Sans Mono',consolas,'Courier New',monospace\">┏━━━━━━━━━━━━━━━━━━━━━━━━━━━━━━━━━┳━━━━━━━━━━━━━━━━━━━━━━━━┳━━━━━━━━━━━━━━━┓\n",
       "┃<span style=\"font-weight: bold\"> Layer (type)                    </span>┃<span style=\"font-weight: bold\"> Output Shape           </span>┃<span style=\"font-weight: bold\">       Param # </span>┃\n",
       "┡━━━━━━━━━━━━━━━━━━━━━━━━━━━━━━━━━╇━━━━━━━━━━━━━━━━━━━━━━━━╇━━━━━━━━━━━━━━━┩\n",
       "│ convx (<span style=\"color: #0087ff; text-decoration-color: #0087ff\">SpecCnn1D</span>)               │ (<span style=\"color: #00d7ff; text-decoration-color: #00d7ff\">None</span>, <span style=\"color: #00af00; text-decoration-color: #00af00\">40</span>, <span style=\"color: #00af00; text-decoration-color: #00af00\">20</span>)         │            <span style=\"color: #00af00; text-decoration-color: #00af00\">80</span> │\n",
       "├─────────────────────────────────┼────────────────────────┼───────────────┤\n",
       "│ max_pooling1d_15 (<span style=\"color: #0087ff; text-decoration-color: #0087ff\">MaxPooling1D</span>) │ (<span style=\"color: #00d7ff; text-decoration-color: #00d7ff\">None</span>, <span style=\"color: #00af00; text-decoration-color: #00af00\">39</span>, <span style=\"color: #00af00; text-decoration-color: #00af00\">20</span>)         │             <span style=\"color: #00af00; text-decoration-color: #00af00\">0</span> │\n",
       "├─────────────────────────────────┼────────────────────────┼───────────────┤\n",
       "│ flatten_15 (<span style=\"color: #0087ff; text-decoration-color: #0087ff\">Flatten</span>)            │ (<span style=\"color: #00d7ff; text-decoration-color: #00d7ff\">None</span>, <span style=\"color: #00af00; text-decoration-color: #00af00\">780</span>)            │             <span style=\"color: #00af00; text-decoration-color: #00af00\">0</span> │\n",
       "├─────────────────────────────────┼────────────────────────┼───────────────┤\n",
       "│ spec1 (<span style=\"color: #0087ff; text-decoration-color: #0087ff\">Spectral</span>)                │ (<span style=\"color: #00d7ff; text-decoration-color: #00d7ff\">None</span>, <span style=\"color: #00af00; text-decoration-color: #00af00\">2500</span>)           │     <span style=\"color: #00af00; text-decoration-color: #00af00\">1,955,000</span> │\n",
       "├─────────────────────────────────┼────────────────────────┼───────────────┤\n",
       "│ spec2 (<span style=\"color: #0087ff; text-decoration-color: #0087ff\">Spectral</span>)                │ (<span style=\"color: #00d7ff; text-decoration-color: #00d7ff\">None</span>, <span style=\"color: #00af00; text-decoration-color: #00af00\">20</span>)             │        <span style=\"color: #00af00; text-decoration-color: #00af00\">50,040</span> │\n",
       "└─────────────────────────────────┴────────────────────────┴───────────────┘\n",
       "</pre>\n"
      ],
      "text/plain": [
       "┏━━━━━━━━━━━━━━━━━━━━━━━━━━━━━━━━━┳━━━━━━━━━━━━━━━━━━━━━━━━┳━━━━━━━━━━━━━━━┓\n",
       "┃\u001b[1m \u001b[0m\u001b[1mLayer (type)                   \u001b[0m\u001b[1m \u001b[0m┃\u001b[1m \u001b[0m\u001b[1mOutput Shape          \u001b[0m\u001b[1m \u001b[0m┃\u001b[1m \u001b[0m\u001b[1m      Param #\u001b[0m\u001b[1m \u001b[0m┃\n",
       "┡━━━━━━━━━━━━━━━━━━━━━━━━━━━━━━━━━╇━━━━━━━━━━━━━━━━━━━━━━━━╇━━━━━━━━━━━━━━━┩\n",
       "│ convx (\u001b[38;5;33mSpecCnn1D\u001b[0m)               │ (\u001b[38;5;45mNone\u001b[0m, \u001b[38;5;34m40\u001b[0m, \u001b[38;5;34m20\u001b[0m)         │            \u001b[38;5;34m80\u001b[0m │\n",
       "├─────────────────────────────────┼────────────────────────┼───────────────┤\n",
       "│ max_pooling1d_15 (\u001b[38;5;33mMaxPooling1D\u001b[0m) │ (\u001b[38;5;45mNone\u001b[0m, \u001b[38;5;34m39\u001b[0m, \u001b[38;5;34m20\u001b[0m)         │             \u001b[38;5;34m0\u001b[0m │\n",
       "├─────────────────────────────────┼────────────────────────┼───────────────┤\n",
       "│ flatten_15 (\u001b[38;5;33mFlatten\u001b[0m)            │ (\u001b[38;5;45mNone\u001b[0m, \u001b[38;5;34m780\u001b[0m)            │             \u001b[38;5;34m0\u001b[0m │\n",
       "├─────────────────────────────────┼────────────────────────┼───────────────┤\n",
       "│ spec1 (\u001b[38;5;33mSpectral\u001b[0m)                │ (\u001b[38;5;45mNone\u001b[0m, \u001b[38;5;34m2500\u001b[0m)           │     \u001b[38;5;34m1,955,000\u001b[0m │\n",
       "├─────────────────────────────────┼────────────────────────┼───────────────┤\n",
       "│ spec2 (\u001b[38;5;33mSpectral\u001b[0m)                │ (\u001b[38;5;45mNone\u001b[0m, \u001b[38;5;34m20\u001b[0m)             │        \u001b[38;5;34m50,040\u001b[0m │\n",
       "└─────────────────────────────────┴────────────────────────┴───────────────┘\n"
      ]
     },
     "metadata": {},
     "output_type": "display_data"
    },
    {
     "data": {
      "text/html": [
       "<pre style=\"white-space:pre;overflow-x:auto;line-height:normal;font-family:Menlo,'DejaVu Sans Mono',consolas,'Courier New',monospace\"><span style=\"font-weight: bold\"> Total params: </span><span style=\"color: #00af00; text-decoration-color: #00af00\">2,005,120</span> (7.65 MB)\n",
       "</pre>\n"
      ],
      "text/plain": [
       "\u001b[1m Total params: \u001b[0m\u001b[38;5;34m2,005,120\u001b[0m (7.65 MB)\n"
      ]
     },
     "metadata": {},
     "output_type": "display_data"
    },
    {
     "data": {
      "text/html": [
       "<pre style=\"white-space:pre;overflow-x:auto;line-height:normal;font-family:Menlo,'DejaVu Sans Mono',consolas,'Courier New',monospace\"><span style=\"font-weight: bold\"> Trainable params: </span><span style=\"color: #00af00; text-decoration-color: #00af00\">2,005,100</span> (7.65 MB)\n",
       "</pre>\n"
      ],
      "text/plain": [
       "\u001b[1m Trainable params: \u001b[0m\u001b[38;5;34m2,005,100\u001b[0m (7.65 MB)\n"
      ]
     },
     "metadata": {},
     "output_type": "display_data"
    },
    {
     "data": {
      "text/html": [
       "<pre style=\"white-space:pre;overflow-x:auto;line-height:normal;font-family:Menlo,'DejaVu Sans Mono',consolas,'Courier New',monospace\"><span style=\"font-weight: bold\"> Non-trainable params: </span><span style=\"color: #00af00; text-decoration-color: #00af00\">20</span> (80.00 B)\n",
       "</pre>\n"
      ],
      "text/plain": [
       "\u001b[1m Non-trainable params: \u001b[0m\u001b[38;5;34m20\u001b[0m (80.00 B)\n"
      ]
     },
     "metadata": {},
     "output_type": "display_data"
    }
   ],
   "source": [
    "# Pre-training weights diag_end\n",
    "inv=2\n",
    "hyperparameters['pre_training']=False\n",
    "hyperparameters['full_training']=True\n",
    "models_pars,models_name= spc.pars()\n",
    "models = spc.SpectralCnn(hyperparameters=hyperparameters,maxpooling_config=maxpooling_config)\n",
    "models.compile_models(units=2500,spectral_config=models_pars.get(models_name[inv]).get('spectral_config'),\n",
    "                      spectral_cnn1d_config=models_pars.get(models_name[inv]).get('spectral_cnn1d_config'),\n",
    "                      spectral_cnn2d_config=models_pars.get(models_name[inv]).get('spectral_cnn2d_config'),\n",
    "                      name=models_name[inv],\n",
    "                      layers_name=['convx','spec1','spec2'],\n",
    "                      layer_cible=None)\n",
    "models.summary(name=models_name[inv])\n"
   ]
  },
  {
   "cell_type": "code",
   "execution_count": 29,
   "id": "548d4b2a",
   "metadata": {},
   "outputs": [
    {
     "name": "stdout",
     "output_type": "stream",
     "text": [
      "Epoch 1/10\n",
      "\u001b[1m80/80\u001b[0m \u001b[32m━━━━━━━━━━━━━━━━━━━━\u001b[0m\u001b[37m\u001b[0m \u001b[1m2s\u001b[0m 14ms/step - accuracy: 0.3028 - loss: 2.8012 - val_accuracy: 0.7285 - val_loss: 0.7888\n",
      "Epoch 2/10\n",
      "\u001b[1m80/80\u001b[0m \u001b[32m━━━━━━━━━━━━━━━━━━━━\u001b[0m\u001b[37m\u001b[0m \u001b[1m1s\u001b[0m 12ms/step - accuracy: 0.7771 - loss: 0.6767 - val_accuracy: 0.8455 - val_loss: 0.4635\n",
      "Epoch 3/10\n",
      "\u001b[1m80/80\u001b[0m \u001b[32m━━━━━━━━━━━━━━━━━━━━\u001b[0m\u001b[37m\u001b[0m \u001b[1m1s\u001b[0m 12ms/step - accuracy: 0.8853 - loss: 0.3820 - val_accuracy: 0.9000 - val_loss: 0.3304\n",
      "Epoch 4/10\n",
      "\u001b[1m80/80\u001b[0m \u001b[32m━━━━━━━━━━━━━━━━━━━━\u001b[0m\u001b[37m\u001b[0m \u001b[1m1s\u001b[0m 12ms/step - accuracy: 0.9157 - loss: 0.2953 - val_accuracy: 0.8950 - val_loss: 0.3694\n",
      "Epoch 5/10\n",
      "\u001b[1m80/80\u001b[0m \u001b[32m━━━━━━━━━━━━━━━━━━━━\u001b[0m\u001b[37m\u001b[0m \u001b[1m1s\u001b[0m 12ms/step - accuracy: 0.9229 - loss: 0.2552 - val_accuracy: 0.9255 - val_loss: 0.2755\n",
      "Epoch 6/10\n",
      "\u001b[1m80/80\u001b[0m \u001b[32m━━━━━━━━━━━━━━━━━━━━\u001b[0m\u001b[37m\u001b[0m \u001b[1m1s\u001b[0m 12ms/step - accuracy: 0.9550 - loss: 0.1802 - val_accuracy: 0.9150 - val_loss: 0.2899\n",
      "Epoch 7/10\n",
      "\u001b[1m80/80\u001b[0m \u001b[32m━━━━━━━━━━━━━━━━━━━━\u001b[0m\u001b[37m\u001b[0m \u001b[1m1s\u001b[0m 13ms/step - accuracy: 0.9591 - loss: 0.1577 - val_accuracy: 0.9145 - val_loss: 0.2999\n",
      "Epoch 8/10\n",
      "\u001b[1m80/80\u001b[0m \u001b[32m━━━━━━━━━━━━━━━━━━━━\u001b[0m\u001b[37m\u001b[0m \u001b[1m1s\u001b[0m 12ms/step - accuracy: 0.9569 - loss: 0.1595 - val_accuracy: 0.9205 - val_loss: 0.2671\n",
      "Epoch 9/10\n",
      "\u001b[1m80/80\u001b[0m \u001b[32m━━━━━━━━━━━━━━━━━━━━\u001b[0m\u001b[37m\u001b[0m \u001b[1m1s\u001b[0m 12ms/step - accuracy: 0.9717 - loss: 0.1154 - val_accuracy: 0.9325 - val_loss: 0.2796\n",
      "Epoch 10/10\n",
      "\u001b[1m80/80\u001b[0m \u001b[32m━━━━━━━━━━━━━━━━━━━━\u001b[0m\u001b[37m\u001b[0m \u001b[1m1s\u001b[0m 13ms/step - accuracy: 0.9814 - loss: 0.0871 - val_accuracy: 0.9285 - val_loss: 0.2742\n"
     ]
    }
   ],
   "source": [
    "models.train(x_train, y_train, x_test, y_test, name=models_name[inv],verbose=1)"
   ]
  },
  {
   "cell_type": "code",
   "execution_count": null,
   "id": "3bc0d5ce",
   "metadata": {},
   "outputs": [],
   "source": [
    "models.evaluate(x_test, y_test, trainable_weights=None, path=path, name=models_name[inv], order=0,layer_name='spec1',p=1,pre_pruning=False,save_accuracy=False)"
   ]
  },
  {
   "cell_type": "code",
   "execution_count": null,
   "id": "05fb0bc0",
   "metadata": {},
   "outputs": [],
   "source": [
    "models_name[inv]"
   ]
  },
  {
   "cell_type": "code",
   "execution_count": null,
   "id": "3811a608",
   "metadata": {},
   "outputs": [],
   "source": [
    "pruning_weights, percentage_zeroed=models.percentile_spectral_filter(trainable_weights=models.trainable_weights['spec1'], name='specConvXd', layer_name='sepc1',p=0.1)"
   ]
  },
  {
   "cell_type": "markdown",
   "id": "0e4af758",
   "metadata": {},
   "source": [
    "## Pruning model "
   ]
  },
  {
   "cell_type": "code",
   "execution_count": null,
   "id": "29789f16",
   "metadata": {},
   "outputs": [],
   "source": [
    "for p in drop.get('p'):\n",
    "    models.evaluate(x_test, y_test, name=models_name[inv],layers=[3],p=p,order=0,path=path)"
   ]
  },
  {
   "cell_type": "code",
   "execution_count": null,
   "id": "086eb159",
   "metadata": {},
   "outputs": [],
   "source": [
    "results={name : spc.extract_accuracy_and_save(replication=replication,depth=depth,drop=drop,name=name,path=path) for name in ['Full-training','Pre-training','Incoming-connectivity']}\n"
   ]
  },
  {
   "cell_type": "code",
   "execution_count": null,
   "id": "0d5a6c96",
   "metadata": {},
   "outputs": [],
   "source": [
    "spc.plot_results(results,x_min=0,\n",
    "            x_max=1,\n",
    "            y_min=0.2,\n",
    "            y_max=1.0,\n",
    "            xlabel='p',\n",
    "            ylabel='accuracy',\n",
    "            show_fig=True,\n",
    "            use_grid=False,\n",
    "            markersize=2,\n",
    "            percentile=True,\n",
    "            save_fig=False,\n",
    "            dpi=300,\n",
    "            lw=1,\n",
    "            alpha=0.3,\n",
    "            loc='lower left',\n",
    "            name_fig='results')"
   ]
  },
  {
   "cell_type": "markdown",
   "id": "b30dc928",
   "metadata": {},
   "source": [
    "## Pre-training"
   ]
  },
  {
   "cell_type": "code",
   "execution_count": null,
   "id": "ef2ff651",
   "metadata": {},
   "outputs": [],
   "source": [
    "models_pars.get('specConvXd').get('spectral_cnn1d_config')['trainable_phi']=True\n",
    "models_pars.get('specConvXd').get('spectral_cnn1d_config')['use_lambda_in']=False"
   ]
  },
  {
   "cell_type": "code",
   "execution_count": null,
   "id": "6fb329a1",
   "metadata": {},
   "outputs": [],
   "source": [
    "inv=2\n",
    "hyperparameters['use_pruning']=False\n",
    "models_pars.get('specConvXd').get('spectral_cnn1d_config')['trainable_phi']=True\n",
    "models_pars.get('specConvXd').get('spectral_cnn1d_config')['use_lambda_in']=False\n",
    "models = spc.SpectralCnn(hyperparameters=hyperparameters,maxpooling_config=maxpooling_config)\n",
    "models.compile_models(units=2500,spectral_config=models_pars.get(models_name[inv]).get('spectral_config'),\n",
    "                      spectral_cnn1d_config=models_pars.get(models_name[inv]).get('spectral_cnn1d_config'),\n",
    "                      spectral_cnn2d_config=models_pars.get(models_name[inv]).get('spectral_cnn2d_config'),\n",
    "                      name=models_name[inv])\n",
    "models.summary(name=models_name[inv])\n",
    "models.train(x_train, y_train, x_test, y_test, name=models_name[inv],verbose=1,layers=[3])"
   ]
  },
  {
   "cell_type": "code",
   "execution_count": null,
   "id": "dec9820f",
   "metadata": {},
   "outputs": [],
   "source": [
    "models.weigths[0][0].shape"
   ]
  },
  {
   "cell_type": "code",
   "execution_count": null,
   "id": "9912c887",
   "metadata": {},
   "outputs": [],
   "source": []
  },
  {
   "cell_type": "code",
   "execution_count": null,
   "id": "c7e943a9",
   "metadata": {},
   "outputs": [],
   "source": [
    "import numpy as np\n",
    "import tensorflow as tf\n",
    "\n",
    "def zero_small_abs_values(obj, p, threshold):\n",
    "    \"\"\"\n",
    "    Set to zero the p% smallest absolute values in the input, \n",
    "    only if they are below a given threshold.\n",
    "\n",
    "    Args:\n",
    "        obj (list, tuple, np.ndarray, tf.Tensor): Input data\n",
    "        p (float): Fraction (0.0 - 1.0) of smallest absolute values to zero\n",
    "        threshold (float): Maximum absolute value allowed for zeroing\n",
    "\n",
    "    Returns:\n",
    "        Same type as input, with selected values replaced by zero\n",
    "    \"\"\"\n",
    "    # Validation des paramètres\n",
    "    if not isinstance(p, (int, float)):\n",
    "        raise ValueError(\"p must be a number between 0 and 1\")\n",
    "    if not 0 <= p <= 1:\n",
    "        raise ValueError(\"p must be between 0 and 1\")\n",
    "    if not isinstance(threshold, (int, float)):\n",
    "        raise ValueError(\"threshold must be a number\")\n",
    "\n",
    "    # Conversion en numpy\n",
    "    input_type = type(obj)\n",
    "    if isinstance(obj, tf.Tensor):\n",
    "        arr = obj.numpy()\n",
    "    elif isinstance(obj, (list, tuple)):\n",
    "        arr = np.array(obj)\n",
    "    elif isinstance(obj, np.ndarray):\n",
    "        arr = obj.copy()\n",
    "    else:\n",
    "        raise ValueError(\"Input must be list, tuple, numpy array, or tf.Tensor\")\n",
    "\n",
    "    # Masque des valeurs valides\n",
    "    mask_valid = np.isfinite(arr)\n",
    "    arr_flat = arr.flatten()\n",
    "\n",
    "    # Valeurs absolues pour sélection\n",
    "    abs_vals = np.abs(arr_flat)\n",
    "\n",
    "    # Filtre : valeurs valides et <= seuil\n",
    "    valid_indices = np.where(mask_valid.flatten() & (abs_vals <= threshold))[0]\n",
    "    n_total_valid = len(valid_indices)\n",
    "    n_zero = int(np.floor(n_total_valid * p))\n",
    "\n",
    "    if n_zero == 0:\n",
    "        return obj  # Rien à changer\n",
    "\n",
    "    # Trouver indices des plus petites valeurs absolues dans ce filtre\n",
    "    sorted_indices = valid_indices[np.argsort(abs_vals[valid_indices])]\n",
    "    indices_to_zero = sorted_indices[:n_zero]\n",
    "\n",
    "    # Mise à zéro\n",
    "    arr_flat[indices_to_zero] = 0\n",
    "    arr_result = arr_flat.reshape(arr.shape)\n",
    "\n",
    "    # Conversion retour au type d'origine\n",
    "    if input_type is list:\n",
    "        return arr_result.tolist()\n",
    "    elif input_type is tuple:\n",
    "        return tuple(arr_result.tolist())\n",
    "    elif input_type is tf.Tensor:\n",
    "        return tf.constant(arr_result, dtype=obj.dtype)\n",
    "    else:\n",
    "        return arr_result\n"
   ]
  },
  {
   "cell_type": "code",
   "execution_count": null,
   "id": "fa316b9d",
   "metadata": {},
   "outputs": [],
   "source": [
    "data = [0.1, -0.5, 3, -4, 0.2, 5, -0.3]\n",
    "print(zero_small_abs_values(data, p=1, threshold=1))\n",
    "# → met à zéro 50% des plus petites valeurs absolues qui sont ≤ 0.5\n"
   ]
  },
  {
   "cell_type": "code",
   "execution_count": null,
   "id": "08fa4028",
   "metadata": {},
   "outputs": [],
   "source": []
  },
  {
   "cell_type": "code",
   "execution_count": null,
   "id": "dd718665",
   "metadata": {},
   "outputs": [],
   "source": []
  },
  {
   "cell_type": "code",
   "execution_count": null,
   "id": "50ed75ff",
   "metadata": {},
   "outputs": [],
   "source": []
  },
  {
   "cell_type": "code",
   "execution_count": null,
   "id": "bd0cf569",
   "metadata": {},
   "outputs": [],
   "source": [
    "class ReplicateInitializer(tf.keras.initializers.Initializer):\n",
    "    def __init__(self, base_weights):\n",
    "        \"\"\"\n",
    "        Parameters:\n",
    "        - base_weights: numpy array or tf.Tensor of shape (m, K)\n",
    "        \"\"\"\n",
    "        if not isinstance(base_weights, (np.ndarray, tf.Tensor)):\n",
    "            raise ValueError(\"base_weights must be a numpy array or tf.Tensor\")\n",
    "        self.base_weights = np.array(base_weights, dtype=np.float32)\n",
    "        self.m, self.K = self.base_weights.shape\n",
    "\n",
    "    def __call__(self, shape, dtype=None):\n",
    "        m, n = shape\n",
    "        if m != self.m:\n",
    "            raise ValueError(f\"Shape mismatch: base_weights has m={self.m}, but target m={m}\")\n",
    "        \n",
    "        # Réplication en colonnes jusqu'à atteindre n\n",
    "        repeats = int(np.ceil(n / self.K))\n",
    "        replicated = np.tile(self.base_weights, (1, repeats))[:, :n]  # coupe à n colonnes\n",
    "        return tf.convert_to_tensor(replicated, dtype=dtype or tf.float32)\n",
    "\n",
    "    def get_config(self):\n",
    "        return {\n",
    "            \"base_weights\": self.base_weights.tolist()\n",
    "        }"
   ]
  },
  {
   "cell_type": "code",
   "execution_count": null,
   "id": "521055a8",
   "metadata": {},
   "outputs": [],
   "source": [
    "# Poids de base (m=3, K=2)\n",
    "base_w = np.array([\n",
    "    [1.0, 2.0],\n",
    "    [3.0, 4.0],\n",
    "    [5.0, 6.0]\n",
    "])\n",
    "\n",
    "# Création de la couche avec initialisation personnalisée\n",
    "layer = tf.keras.layers.Dense(\n",
    "    units=6,  # n = 6\n",
    "    input_shape=(3,),\n",
    "    kernel_initializer=ReplicateInitializer(base_w),\n",
    "    use_bias=False\n",
    ")\n",
    "\n",
    "# Vérification\n",
    "model = tf.keras.Sequential([layer])\n",
    "model.build((None, 3))\n",
    "print(model.layers[0].get_weights()[0])"
   ]
  }
 ],
 "metadata": {
  "kernelspec": {
   "display_name": "mon_env",
   "language": "python",
   "name": "python3"
  },
  "language_info": {
   "codemirror_mode": {
    "name": "ipython",
    "version": 3
   },
   "file_extension": ".py",
   "mimetype": "text/x-python",
   "name": "python",
   "nbconvert_exporter": "python",
   "pygments_lexer": "ipython3",
   "version": "3.12.6"
  }
 },
 "nbformat": 4,
 "nbformat_minor": 5
}
