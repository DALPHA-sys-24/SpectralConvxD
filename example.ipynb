{
 "cells": [
  {
   "cell_type": "code",
   "execution_count": 1,
   "id": "ab008afe",
   "metadata": {},
   "outputs": [],
   "source": [
    "%load_ext autoreload\n",
    "%autoreload 2\n",
    "import SpectralConvxD as spc\n",
    "import numpy as np\n",
    "import tensorflow as tf\n",
    "import copy \n",
    "\n"
   ]
  },
  {
   "cell_type": "code",
   "execution_count": 2,
   "id": "dd8b0072",
   "metadata": {},
   "outputs": [
    {
     "name": "stdout",
     "output_type": "stream",
     "text": [
      "Did or could not load data from ./mnist1d_data.pkl. Rebuilding dataset...\n"
     ]
    }
   ],
   "source": [
    "x_train, y_train,x_test, y_test=spc.generate_data(name_data='mnist1d')\n"
   ]
  },
  {
   "cell_type": "code",
   "execution_count": 3,
   "id": "774c82ae",
   "metadata": {},
   "outputs": [],
   "source": [
    "maxpooling_config ={'strides': 1,\n",
    "                     'padding': 'valid' }\n",
    "\n",
    "hyperparameters = { 'filters' :20,\n",
    "                    'input_shape' :(40,),\n",
    "                    'learning_rate' : 0.03,\n",
    "                    'epochs' : 10,\n",
    "                    'batch_size' :100,\n",
    "                    'activation': 'relu',\n",
    "                    'labels' : 10,\n",
    "                    'conxd':1,\n",
    "                    'pool_size':2,\n",
    "                    'use_pruning':False,\n",
    "                    'pre_training': False,\n",
    "                    'post_training':True\n",
    "                    }"
   ]
  },
  {
   "cell_type": "code",
   "execution_count": 4,
   "id": "eea23f31",
   "metadata": {},
   "outputs": [],
   "source": [
    "replication = {'rep':1} \n",
    "depth={'N':[2500]}\n",
    "drop={'p':[0,0.05,0.1,0.15,0.2,0.25, 0.3,0.35, 0.4,0.45, 0.5,0.55, 0.6,0.65, 0.7, 0.75,0.8, 0.85,0.9,0.95,1]}\n",
    "path =r\"C:\\Users\\jketchak\\Documents\\DALPHAcommunity\\UNAMUR\\EUREKA\\btwg_ml\\SpectralConvxD\\SpectralConvxD\\DataWarehouse\\dtest\"\n",
    "path=spc.utils.remplacer_backslash(path)"
   ]
  },
  {
   "cell_type": "code",
   "execution_count": 7,
   "id": "1b58a2c2",
   "metadata": {},
   "outputs": [
    {
     "name": "stdout",
     "output_type": "stream",
     "text": [
      "Pruning: Pershaps pre-training\n",
      "Post training: Spectral compactness\n",
      "No trainable weights provided, using default initialization\n",
      "specConvXd model summary:\n",
      " \n"
     ]
    },
    {
     "data": {
      "text/html": [
       "<pre style=\"white-space:pre;overflow-x:auto;line-height:normal;font-family:Menlo,'DejaVu Sans Mono',consolas,'Courier New',monospace\"><span style=\"font-weight: bold\">Model: \"sequential_2\"</span>\n",
       "</pre>\n"
      ],
      "text/plain": [
       "\u001b[1mModel: \"sequential_2\"\u001b[0m\n"
      ]
     },
     "metadata": {},
     "output_type": "display_data"
    },
    {
     "data": {
      "text/html": [
       "<pre style=\"white-space:pre;overflow-x:auto;line-height:normal;font-family:Menlo,'DejaVu Sans Mono',consolas,'Courier New',monospace\">┏━━━━━━━━━━━━━━━━━━━━━━━━━━━━━━━━━┳━━━━━━━━━━━━━━━━━━━━━━━━┳━━━━━━━━━━━━━━━┓\n",
       "┃<span style=\"font-weight: bold\"> Layer (type)                    </span>┃<span style=\"font-weight: bold\"> Output Shape           </span>┃<span style=\"font-weight: bold\">       Param # </span>┃\n",
       "┡━━━━━━━━━━━━━━━━━━━━━━━━━━━━━━━━━╇━━━━━━━━━━━━━━━━━━━━━━━━╇━━━━━━━━━━━━━━━┩\n",
       "│ convx (<span style=\"color: #0087ff; text-decoration-color: #0087ff\">SpecCnn1D</span>)               │ (<span style=\"color: #00d7ff; text-decoration-color: #00d7ff\">None</span>, <span style=\"color: #00af00; text-decoration-color: #00af00\">40</span>, <span style=\"color: #00af00; text-decoration-color: #00af00\">20</span>)         │           <span style=\"color: #00af00; text-decoration-color: #00af00\">920</span> │\n",
       "├─────────────────────────────────┼────────────────────────┼───────────────┤\n",
       "│ max_pooling1d_2 (<span style=\"color: #0087ff; text-decoration-color: #0087ff\">MaxPooling1D</span>)  │ (<span style=\"color: #00d7ff; text-decoration-color: #00d7ff\">None</span>, <span style=\"color: #00af00; text-decoration-color: #00af00\">39</span>, <span style=\"color: #00af00; text-decoration-color: #00af00\">20</span>)         │             <span style=\"color: #00af00; text-decoration-color: #00af00\">0</span> │\n",
       "├─────────────────────────────────┼────────────────────────┼───────────────┤\n",
       "│ flatten_2 (<span style=\"color: #0087ff; text-decoration-color: #0087ff\">Flatten</span>)             │ (<span style=\"color: #00d7ff; text-decoration-color: #00d7ff\">None</span>, <span style=\"color: #00af00; text-decoration-color: #00af00\">780</span>)            │             <span style=\"color: #00af00; text-decoration-color: #00af00\">0</span> │\n",
       "├─────────────────────────────────┼────────────────────────┼───────────────┤\n",
       "│ spec1 (<span style=\"color: #0087ff; text-decoration-color: #0087ff\">Spectral</span>)                │ (<span style=\"color: #00d7ff; text-decoration-color: #00d7ff\">None</span>, <span style=\"color: #00af00; text-decoration-color: #00af00\">2500</span>)           │     <span style=\"color: #00af00; text-decoration-color: #00af00\">1,952,500</span> │\n",
       "├─────────────────────────────────┼────────────────────────┼───────────────┤\n",
       "│ spec2 (<span style=\"color: #0087ff; text-decoration-color: #0087ff\">Spectral</span>)                │ (<span style=\"color: #00d7ff; text-decoration-color: #00d7ff\">None</span>, <span style=\"color: #00af00; text-decoration-color: #00af00\">10</span>)             │        <span style=\"color: #00af00; text-decoration-color: #00af00\">25,010</span> │\n",
       "└─────────────────────────────────┴────────────────────────┴───────────────┘\n",
       "</pre>\n"
      ],
      "text/plain": [
       "┏━━━━━━━━━━━━━━━━━━━━━━━━━━━━━━━━━┳━━━━━━━━━━━━━━━━━━━━━━━━┳━━━━━━━━━━━━━━━┓\n",
       "┃\u001b[1m \u001b[0m\u001b[1mLayer (type)                   \u001b[0m\u001b[1m \u001b[0m┃\u001b[1m \u001b[0m\u001b[1mOutput Shape          \u001b[0m\u001b[1m \u001b[0m┃\u001b[1m \u001b[0m\u001b[1m      Param #\u001b[0m\u001b[1m \u001b[0m┃\n",
       "┡━━━━━━━━━━━━━━━━━━━━━━━━━━━━━━━━━╇━━━━━━━━━━━━━━━━━━━━━━━━╇━━━━━━━━━━━━━━━┩\n",
       "│ convx (\u001b[38;5;33mSpecCnn1D\u001b[0m)               │ (\u001b[38;5;45mNone\u001b[0m, \u001b[38;5;34m40\u001b[0m, \u001b[38;5;34m20\u001b[0m)         │           \u001b[38;5;34m920\u001b[0m │\n",
       "├─────────────────────────────────┼────────────────────────┼───────────────┤\n",
       "│ max_pooling1d_2 (\u001b[38;5;33mMaxPooling1D\u001b[0m)  │ (\u001b[38;5;45mNone\u001b[0m, \u001b[38;5;34m39\u001b[0m, \u001b[38;5;34m20\u001b[0m)         │             \u001b[38;5;34m0\u001b[0m │\n",
       "├─────────────────────────────────┼────────────────────────┼───────────────┤\n",
       "│ flatten_2 (\u001b[38;5;33mFlatten\u001b[0m)             │ (\u001b[38;5;45mNone\u001b[0m, \u001b[38;5;34m780\u001b[0m)            │             \u001b[38;5;34m0\u001b[0m │\n",
       "├─────────────────────────────────┼────────────────────────┼───────────────┤\n",
       "│ spec1 (\u001b[38;5;33mSpectral\u001b[0m)                │ (\u001b[38;5;45mNone\u001b[0m, \u001b[38;5;34m2500\u001b[0m)           │     \u001b[38;5;34m1,952,500\u001b[0m │\n",
       "├─────────────────────────────────┼────────────────────────┼───────────────┤\n",
       "│ spec2 (\u001b[38;5;33mSpectral\u001b[0m)                │ (\u001b[38;5;45mNone\u001b[0m, \u001b[38;5;34m10\u001b[0m)             │        \u001b[38;5;34m25,010\u001b[0m │\n",
       "└─────────────────────────────────┴────────────────────────┴───────────────┘\n"
      ]
     },
     "metadata": {},
     "output_type": "display_data"
    },
    {
     "data": {
      "text/html": [
       "<pre style=\"white-space:pre;overflow-x:auto;line-height:normal;font-family:Menlo,'DejaVu Sans Mono',consolas,'Courier New',monospace\"><span style=\"font-weight: bold\"> Total params: </span><span style=\"color: #00af00; text-decoration-color: #00af00\">1,978,430</span> (7.55 MB)\n",
       "</pre>\n"
      ],
      "text/plain": [
       "\u001b[1m Total params: \u001b[0m\u001b[38;5;34m1,978,430\u001b[0m (7.55 MB)\n"
      ]
     },
     "metadata": {},
     "output_type": "display_data"
    },
    {
     "data": {
      "text/html": [
       "<pre style=\"white-space:pre;overflow-x:auto;line-height:normal;font-family:Menlo,'DejaVu Sans Mono',consolas,'Courier New',monospace\"><span style=\"font-weight: bold\"> Trainable params: </span><span style=\"color: #00af00; text-decoration-color: #00af00\">1,978,430</span> (7.55 MB)\n",
       "</pre>\n"
      ],
      "text/plain": [
       "\u001b[1m Trainable params: \u001b[0m\u001b[38;5;34m1,978,430\u001b[0m (7.55 MB)\n"
      ]
     },
     "metadata": {},
     "output_type": "display_data"
    },
    {
     "data": {
      "text/html": [
       "<pre style=\"white-space:pre;overflow-x:auto;line-height:normal;font-family:Menlo,'DejaVu Sans Mono',consolas,'Courier New',monospace\"><span style=\"font-weight: bold\"> Non-trainable params: </span><span style=\"color: #00af00; text-decoration-color: #00af00\">0</span> (0.00 B)\n",
       "</pre>\n"
      ],
      "text/plain": [
       "\u001b[1m Non-trainable params: \u001b[0m\u001b[38;5;34m0\u001b[0m (0.00 B)\n"
      ]
     },
     "metadata": {},
     "output_type": "display_data"
    }
   ],
   "source": [
    "inv=2\n",
    "models_pars,models_name= spc.pars()\n",
    "models = spc.SpectralCnn(hyperparameters=hyperparameters,maxpooling_config=maxpooling_config)\n",
    "models.compile_models(units=2500,spectral_config=models_pars.get(models_name[inv]).get('spectral_config'),\n",
    "                      spectral_cnn1d_config=models_pars.get(models_name[inv]).get('spectral_cnn1d_config'),\n",
    "                      spectral_cnn2d_config=models_pars.get(models_name[inv]).get('spectral_cnn2d_config'),\n",
    "                      name=models_name[inv],\n",
    "                      layers_name=['convx','spec1','spec2'],\n",
    "                      trainable_weights=None,\n",
    "                      layer_cible=None)\n",
    "models.summary(name=models_name[inv])"
   ]
  },
  {
   "cell_type": "code",
   "execution_count": 8,
   "id": "548d4b2a",
   "metadata": {},
   "outputs": [
    {
     "name": "stdout",
     "output_type": "stream",
     "text": [
      "Epoch 1/10\n",
      "\u001b[1m80/80\u001b[0m \u001b[32m━━━━━━━━━━━━━━━━━━━━\u001b[0m\u001b[37m\u001b[0m \u001b[1m1s\u001b[0m 9ms/step - accuracy: 0.1972 - loss: 2.0633 - val_accuracy: 0.4525 - val_loss: 1.3281\n",
      "Epoch 2/10\n",
      "\u001b[1m80/80\u001b[0m \u001b[32m━━━━━━━━━━━━━━━━━━━━\u001b[0m\u001b[37m\u001b[0m \u001b[1m1s\u001b[0m 8ms/step - accuracy: 0.4871 - loss: 1.2451 - val_accuracy: 0.5560 - val_loss: 1.0373\n",
      "Epoch 3/10\n",
      "\u001b[1m80/80\u001b[0m \u001b[32m━━━━━━━━━━━━━━━━━━━━\u001b[0m\u001b[37m\u001b[0m \u001b[1m1s\u001b[0m 8ms/step - accuracy: 0.6105 - loss: 0.9682 - val_accuracy: 0.6780 - val_loss: 0.8221\n",
      "Epoch 4/10\n",
      "\u001b[1m80/80\u001b[0m \u001b[32m━━━━━━━━━━━━━━━━━━━━\u001b[0m\u001b[37m\u001b[0m \u001b[1m1s\u001b[0m 9ms/step - accuracy: 0.7252 - loss: 0.7103 - val_accuracy: 0.7220 - val_loss: 0.7157\n",
      "Epoch 5/10\n",
      "\u001b[1m80/80\u001b[0m \u001b[32m━━━━━━━━━━━━━━━━━━━━\u001b[0m\u001b[37m\u001b[0m \u001b[1m1s\u001b[0m 8ms/step - accuracy: 0.7943 - loss: 0.5386 - val_accuracy: 0.7720 - val_loss: 0.5778\n",
      "Epoch 6/10\n",
      "\u001b[1m80/80\u001b[0m \u001b[32m━━━━━━━━━━━━━━━━━━━━\u001b[0m\u001b[37m\u001b[0m \u001b[1m1s\u001b[0m 8ms/step - accuracy: 0.8506 - loss: 0.3967 - val_accuracy: 0.8020 - val_loss: 0.5057\n",
      "Epoch 7/10\n",
      "\u001b[1m80/80\u001b[0m \u001b[32m━━━━━━━━━━━━━━━━━━━━\u001b[0m\u001b[37m\u001b[0m \u001b[1m1s\u001b[0m 9ms/step - accuracy: 0.9017 - loss: 0.2812 - val_accuracy: 0.8185 - val_loss: 0.4680\n",
      "Epoch 8/10\n",
      "\u001b[1m80/80\u001b[0m \u001b[32m━━━━━━━━━━━━━━━━━━━━\u001b[0m\u001b[37m\u001b[0m \u001b[1m1s\u001b[0m 8ms/step - accuracy: 0.9238 - loss: 0.2201 - val_accuracy: 0.8535 - val_loss: 0.4035\n",
      "Epoch 9/10\n",
      "\u001b[1m80/80\u001b[0m \u001b[32m━━━━━━━━━━━━━━━━━━━━\u001b[0m\u001b[37m\u001b[0m \u001b[1m1s\u001b[0m 9ms/step - accuracy: 0.9442 - loss: 0.1713 - val_accuracy: 0.8570 - val_loss: 0.3799\n",
      "Epoch 10/10\n",
      "\u001b[1m80/80\u001b[0m \u001b[32m━━━━━━━━━━━━━━━━━━━━\u001b[0m\u001b[37m\u001b[0m \u001b[1m1s\u001b[0m 9ms/step - accuracy: 0.9644 - loss: 0.1103 - val_accuracy: 0.8460 - val_loss: 0.4378\n"
     ]
    }
   ],
   "source": [
    "models.train(x_train, y_train, x_test, y_test, name=models_name[inv],verbose=1)"
   ]
  },
  {
   "cell_type": "code",
   "execution_count": 9,
   "id": "c5bdf068",
   "metadata": {},
   "outputs": [
    {
     "name": "stdout",
     "output_type": "stream",
     "text": [
      "base (780, 2500) True\n",
      "bias (2500,) True\n"
     ]
    }
   ],
   "source": [
    "for var in models.model.get_layer(name='spec1').variables:\n",
    "    print(var.name, var.shape, var.trainable)"
   ]
  },
  {
   "cell_type": "code",
   "execution_count": null,
   "id": "5b61ccc1",
   "metadata": {},
   "outputs": [],
   "source": [
    "pre_taining_weights=models.get_trainable_weights(layer_name='spec1')\n",
    "pre_taining_weights"
   ]
  },
  {
   "cell_type": "code",
   "execution_count": null,
   "id": "ef0fef2c",
   "metadata": {},
   "outputs": [],
   "source": [
    "inv=2\n",
    "models = spc.SpectralCnn(hyperparameters=hyperparameters,maxpooling_config=maxpooling_config)\n",
    "models.compile_models(units=2500,spectral_config=models_pars.get(models_name[inv]).get('spectral_config'),\n",
    "                      spectral_cnn1d_config=models_pars.get(models_name[inv]).get('spectral_cnn1d_config'),\n",
    "                      spectral_cnn2d_config=models_pars.get(models_name[inv]).get('spectral_cnn2d_config'),\n",
    "                      name=models_name[inv],\n",
    "                      layers_name=['convx','spec1','spec2'],\n",
    "                      trainable_weights=pre_taining_weights,\n",
    "                      layer_cible='spec1')\n",
    "models.summary(name=models_name[inv])"
   ]
  },
  {
   "cell_type": "code",
   "execution_count": null,
   "id": "3bc0d5ce",
   "metadata": {},
   "outputs": [],
   "source": [
    "models.evaluate(x_test, y_test, trainable_weights=None, path=path, name=models_name[inv], order=0,layer_name='spec1',p=0.0)"
   ]
  },
  {
   "cell_type": "code",
   "execution_count": null,
   "id": "9ce15daa",
   "metadata": {},
   "outputs": [],
   "source": [
    "models_name[inv]"
   ]
  },
  {
   "cell_type": "code",
   "execution_count": null,
   "id": "66dbb9a2",
   "metadata": {},
   "outputs": [],
   "source": [
    "models.model.get_layer(name='spec1').set_weights(tw_copy)"
   ]
  },
  {
   "cell_type": "markdown",
   "id": "0e4af758",
   "metadata": {},
   "source": [
    "## Pruning model "
   ]
  },
  {
   "cell_type": "code",
   "execution_count": null,
   "id": "27f8caf6",
   "metadata": {},
   "outputs": [],
   "source": [
    "models.cut_value"
   ]
  },
  {
   "cell_type": "code",
   "execution_count": null,
   "id": "29789f16",
   "metadata": {},
   "outputs": [],
   "source": [
    "for p in drop.get('p'):\n",
    "    models.evaluate(x_test, y_test, name=models_name[inv],layers=[3],p=p,order=0,path=path)"
   ]
  },
  {
   "cell_type": "code",
   "execution_count": null,
   "id": "086eb159",
   "metadata": {},
   "outputs": [],
   "source": [
    "results={name : spc.extract_accuracy_and_save(replication=replication,depth=depth,drop=drop,name=name,path=path) for name in models_name if name not in ['Dspec']}\n"
   ]
  },
  {
   "cell_type": "code",
   "execution_count": null,
   "id": "0d5a6c96",
   "metadata": {},
   "outputs": [],
   "source": [
    "spc.plot_results(results,x_min=0,\n",
    "            x_max=1,\n",
    "            y_min=0.2,\n",
    "            y_max=1.0,\n",
    "            xlabel='p',\n",
    "            ylabel='accuracy',\n",
    "            show_fig=True,\n",
    "            use_grid=False,\n",
    "            markersize=3,\n",
    "            percentile=True,\n",
    "            save_fig=False,\n",
    "            dpi=300,\n",
    "            loc='lower right',\n",
    "            name_fig='results')"
   ]
  },
  {
   "cell_type": "markdown",
   "id": "b30dc928",
   "metadata": {},
   "source": [
    "## Pre-training"
   ]
  },
  {
   "cell_type": "code",
   "execution_count": null,
   "id": "ef2ff651",
   "metadata": {},
   "outputs": [],
   "source": [
    "models_pars.get('specConvXd').get('spectral_cnn1d_config')['trainable_phi']=True\n",
    "models_pars.get('specConvXd').get('spectral_cnn1d_config')['use_lambda_in']=False"
   ]
  },
  {
   "cell_type": "code",
   "execution_count": null,
   "id": "6fb329a1",
   "metadata": {},
   "outputs": [],
   "source": [
    "inv=2\n",
    "hyperparameters['use_pruning']=False\n",
    "models_pars.get('specConvXd').get('spectral_cnn1d_config')['trainable_phi']=True\n",
    "models_pars.get('specConvXd').get('spectral_cnn1d_config')['use_lambda_in']=False\n",
    "models = spc.SpectralCnn(hyperparameters=hyperparameters,maxpooling_config=maxpooling_config)\n",
    "models.compile_models(units=2500,spectral_config=models_pars.get(models_name[inv]).get('spectral_config'),\n",
    "                      spectral_cnn1d_config=models_pars.get(models_name[inv]).get('spectral_cnn1d_config'),\n",
    "                      spectral_cnn2d_config=models_pars.get(models_name[inv]).get('spectral_cnn2d_config'),\n",
    "                      name=models_name[inv])\n",
    "models.summary(name=models_name[inv])\n",
    "models.train(x_train, y_train, x_test, y_test, name=models_name[inv],verbose=1,layers=[3])"
   ]
  },
  {
   "cell_type": "code",
   "execution_count": null,
   "id": "dec9820f",
   "metadata": {},
   "outputs": [],
   "source": [
    "models.weigths[0][0].shape"
   ]
  },
  {
   "cell_type": "code",
   "execution_count": null,
   "id": "9912c887",
   "metadata": {},
   "outputs": [],
   "source": []
  }
 ],
 "metadata": {
  "kernelspec": {
   "display_name": "mon_env",
   "language": "python",
   "name": "python3"
  },
  "language_info": {
   "codemirror_mode": {
    "name": "ipython",
    "version": 3
   },
   "file_extension": ".py",
   "mimetype": "text/x-python",
   "name": "python",
   "nbconvert_exporter": "python",
   "pygments_lexer": "ipython3",
   "version": "3.12.6"
  }
 },
 "nbformat": 4,
 "nbformat_minor": 5
}
